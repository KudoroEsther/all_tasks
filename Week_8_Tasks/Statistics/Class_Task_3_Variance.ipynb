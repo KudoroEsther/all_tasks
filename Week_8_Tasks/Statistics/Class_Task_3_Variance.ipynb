{
 "cells": [
  {
   "cell_type": "markdown",
   "id": "1e8c2e0e",
   "metadata": {},
   "source": [
    "# Variance"
   ]
  },
  {
   "cell_type": "markdown",
   "id": "58e6d24c",
   "metadata": {
    "vscode": {
     "languageId": "plaintext"
    }
   },
   "source": [
    "Given (4, 8, 6, 5, 2), calculate the variance"
   ]
  },
  {
   "cell_type": "markdown",
   "id": "54a584e9",
   "metadata": {
    "vscode": {
     "languageId": "plaintext"
    }
   },
   "source": [
    "Variance σ²= ∑(xᵢ - μ)² / N \n",
    "\n",
    "Mean μ = (4 + 8 + 6 + 5 + 3) = 5.2\n",
    "\n",
    "|xᵢ | xᵢ - μ | (xᵢ - μ)² |\n",
    "|-----|-----|-----|\n",
    "| 4 | -1.2 | 1.44 |\n",
    "| 8 | 2.8 |7.84 |\n",
    "| 6 | 0.8 | 0.64 |\n",
    "| 5 | -0.2 | 0.04 |\n",
    "| 3 | -2.2 | 4.84 |\n",
    "\n",
    "\n",
    "$$∑(xᵢ - μ)² / N  = (1.44 + 7.84 + 0.64 + 0.04 + 4.84)/5$$\n",
    "$$ = (14.8)/5 $$\n",
    "$$σ² = 2.96 $$\n",
    "\n",
    "Based on observation, the dataset can be said to have a low variance.\n"
   ]
  }
 ],
 "metadata": {
  "language_info": {
   "name": "python"
  }
 },
 "nbformat": 4,
 "nbformat_minor": 5
}
