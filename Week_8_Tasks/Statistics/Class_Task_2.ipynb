{
 "cells": [
  {
   "cell_type": "markdown",
   "id": "b7ef7263",
   "metadata": {},
   "source": [
    "## Question 1 Class Test Scores\n"
   ]
  },
  {
   "cell_type": "markdown",
   "id": "0eb8f511",
   "metadata": {},
   "source": []
  },
  {
   "cell_type": "markdown",
   "id": "22eb18a9",
   "metadata": {},
   "source": [
    "Mathematics test scores =  5, 8, 10, 12, 12, 12, 13, 14, 14, 15, 16, 18, 18, 20, 20\n",
    "\n",
    "Mean = (5+8+10+12+12+12+13+14+14+15+16+18+18+20+20)/15 =13.8\n"
   ]
  },
  {
   "cell_type": "code",
   "execution_count": null,
   "id": "9acd5622",
   "metadata": {
    "vscode": {
     "languageId": "plaintext"
    }
   },
   "outputs": [],
   "source": [
    "import numpy as np"
   ]
  }
 ],
 "metadata": {
  "language_info": {
   "name": "python"
  }
 },
 "nbformat": 4,
 "nbformat_minor": 5
}
