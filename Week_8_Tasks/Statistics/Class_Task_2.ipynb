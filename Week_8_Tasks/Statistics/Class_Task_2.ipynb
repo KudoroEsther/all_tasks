{
 "cells": [
  {
   "cell_type": "markdown",
   "id": "b7ef7263",
   "metadata": {},
   "source": [
    "## Question 1 Class Test Scores\n"
   ]
  },
  {
   "cell_type": "markdown",
   "id": "0eb8f511",
   "metadata": {},
   "source": [
    "The following are the Mathematics test scores (out of 20) for a class of 15 students:\n",
    " 5, 8, 10, 12, 12, 12, 13, 14, 14, 15, 16, 18, 18, 20, 20\n",
    "Find the mean, median, and mode of the scores.\n",
    "If the lowest score (5) was wrongly recorded and should have been 10, how would the mean change? Would the median or mode change? Explain.\n"
   ]
  },
  {
   "cell_type": "markdown",
   "id": "f9614d15",
   "metadata": {},
   "source": [
    "### Number 1"
   ]
  },
  {
   "cell_type": "markdown",
   "id": "22eb18a9",
   "metadata": {},
   "source": [
    "Mathematics test scores =  5, 8, 10, 12, 12, 12, 13, 14, 14, 15, 16, 18, 18, 20, 20\n",
    "\n",
    "Mean = (5+8+10+12+12+12+13+14+14+15+16+18+18+20+20)/15 =13.8\n",
    "\n",
    "Median = 14\n",
    "\n",
    "Mode = 12 (Unimodal)"
   ]
  },
  {
   "cell_type": "markdown",
   "id": "d44bdac8",
   "metadata": {},
   "source": [
    "### Number 2"
   ]
  },
  {
   "cell_type": "markdown",
   "id": "42095cd0",
   "metadata": {},
   "source": [
    "Effects of changing the lowest score (5) to 10 on the mean, median and mod\n",
    "\n",
    "Mean: Since mean uses all values in the dataset and is affected by outliers, the mean will increase from 13.8 to 14.133.\n",
    "\n",
    "Median: The median remains unchanged since we are only changing a value in the dataset and not adding new values to the dataset. The median also remains unchanged because it it not affected by outliers.\n",
    "\n",
    "Mode: The mode remains unchanged because the value with the highest number of frequency (12) doesn't change with the addition of 10 to the dataset. It is also not affected by outliers."
   ]
  },
  {
   "cell_type": "markdown",
   "id": "44a6ee32",
   "metadata": {},
   "source": [
    "## Question 2"
   ]
  },
  {
   "cell_type": "markdown",
   "id": "4318e652",
   "metadata": {},
   "source": []
  },
  {
   "cell_type": "code",
   "execution_count": null,
   "id": "9acd5622",
   "metadata": {},
   "outputs": [],
   "source": [
    "import numpy as np"
   ]
  }
 ],
 "metadata": {
  "language_info": {
   "name": "python"
  }
 },
 "nbformat": 4,
 "nbformat_minor": 5
}
