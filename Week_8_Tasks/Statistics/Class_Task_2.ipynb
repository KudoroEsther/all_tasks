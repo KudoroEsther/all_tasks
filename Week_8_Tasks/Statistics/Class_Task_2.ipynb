{
 "cells": [
  {
   "cell_type": "markdown",
   "id": "b7ef7263",
   "metadata": {},
   "source": [
    "## Question 1 Class Test Scores\n"
   ]
  },
  {
   "cell_type": "markdown",
   "id": "0eb8f511",
   "metadata": {},
   "source": [
    "The following are the Mathematics test scores (out of 20) for a class of 15 students:\n",
    " 5, 8, 10, 12, 12, 12, 13, 14, 14, 15, 16, 18, 18, 20, 20\n",
    "1. Find the mean, median, and mode of the scores.\n",
    "2. If the lowest score (5) was wrongly recorded and should have been 10, how would the mean change? Would the median or mode change? Explain.\n"
   ]
  },
  {
   "cell_type": "markdown",
   "id": "f9614d15",
   "metadata": {},
   "source": [
    "### Number 1"
   ]
  },
  {
   "cell_type": "markdown",
   "id": "22eb18a9",
   "metadata": {},
   "source": [
    "Mathematics test scores =  5, 8, 10, 12, 12, 12, 13, 14, 14, 15, 16, 18, 18, 20, 20\n",
    "\n",
    "Mean = (5+8+10+12+12+12+13+14+14+15+16+18+18+20+20)/15 =13.8\n",
    "\n",
    "Median = 14\n",
    "\n",
    "Mode = 12 (Unimodal)"
   ]
  },
  {
   "cell_type": "markdown",
   "id": "d44bdac8",
   "metadata": {},
   "source": [
    "### Number 2"
   ]
  },
  {
   "cell_type": "markdown",
   "id": "42095cd0",
   "metadata": {},
   "source": [
    "**Effects of changing the lowest score (5) to 10 on the mean, median and mode**\n",
    "\n",
    "Mean: Since mean uses all values in the dataset and is affected by outliers, the mean will increase from 13.8 to 14.133.\n",
    "\n",
    "Median: The median remains unchanged since we are only changing a value in the dataset and not adding new values to the dataset. The median also remains unchanged because it it not affected by outliers.\n",
    "\n",
    "Mode: The mode remains unchanged because the value with the highest number of frequency (12) doesn't change with the addition of 10 to the dataset. It is also not affected by outliers."
   ]
  },
  {
   "cell_type": "markdown",
   "id": "44a6ee32",
   "metadata": {},
   "source": [
    "## Question 2 Daily Commute Times"
   ]
  },
  {
   "cell_type": "markdown",
   "id": "4318e652",
   "metadata": {},
   "source": [
    "A group of 9 students reported the time (in minutes) it takes them to get to school each day:\n",
    " 15, 20, 20, 25, 25, 30, 60, 65, 120\n",
    "1. Find the mean, median, and mode of the data.\n",
    "\n",
    "\n",
    "2. Which measure (mean, median, or mode) do you think best represents the “typical” time it takes students to get to school? Why?\n",
    " (Hint: Think about the effect of the student who takes 120 minutes.)\n"
   ]
  },
  {
   "cell_type": "markdown",
   "id": "2a6e574e",
   "metadata": {},
   "source": [
    "### Number 1"
   ]
  },
  {
   "cell_type": "markdown",
   "id": "c850b6dc",
   "metadata": {},
   "source": [
    "reported_time = 15, 20, 20, 25, 25, 30, 60, 65, 120\n",
    "\n",
    "Mean = (15+20+20+25+25+30+60+65+120)/9 =42.22\n",
    "\n",
    "Median = 25\n",
    "\n",
    "Mode = 20, 25 (Bimodal)\n"
   ]
  },
  {
   "cell_type": "markdown",
   "id": "744dcaa3",
   "metadata": {},
   "source": [
    "### Number 2"
   ]
  },
  {
   "cell_type": "markdown",
   "id": "047ab774",
   "metadata": {},
   "source": [
    "Mode best represents the \"typical\" time it takes students to get to school because it holds the time with the highest number of recorded input from students."
   ]
  },
  {
   "cell_type": "markdown",
   "id": "df8e2359",
   "metadata": {},
   "source": [
    "## Question 3 Shoe Sizes"
   ]
  },
  {
   "cell_type": "markdown",
   "id": "38f292e7",
   "metadata": {},
   "source": [
    "The shoe sizes of students in a class are:\n",
    " 38, 39, 38, 40, 41, 42, 39, 39, 40, 38, 37, 39, 40, 41, 42\n",
    "1. Find the mode of the data.\n",
    "\n",
    "\n",
    "2. If a shoe company wants to donate free shoes, which size should they produce most of? Why?\n",
    "\n",
    "\n",
    "3. What if they only want to produce one size that would fit the \"average\" student? Should they use mean, median, or mode? Defend your answer.\n"
   ]
  },
  {
   "cell_type": "markdown",
   "id": "ef02c025",
   "metadata": {},
   "source": [
    "Shoe sizes = 38, 39, 38, 40, 41, 42, 39, 39, 40, 38, 37, 39, 40, 41, 42\n",
    "37, 38, 38, 38, 39, 39, 39, 39, 40, 40, 40, 41, 41, 42, 42,\n",
    "Mode of the data =  39\n",
    "\n",
    "It would be adviceable to to produce more of shoes sized 39, because there are more students in the class with shoes sized 39 than any other shoe size.\n",
    "\n",
    "To fit the average student, the mean should be used because it uses all the datapoints in the dataset to get the measure of tendencies that represents the average"
   ]
  },
  {
   "cell_type": "code",
   "execution_count": null,
   "id": "9acd5622",
   "metadata": {},
   "outputs": [],
   "source": [
    "import numpy as np"
   ]
  }
 ],
 "metadata": {
  "language_info": {
   "name": "python"
  }
 },
 "nbformat": 4,
 "nbformat_minor": 5
}
