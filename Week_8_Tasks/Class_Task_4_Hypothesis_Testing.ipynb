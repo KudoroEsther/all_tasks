{
 "cells": [
  {
   "cell_type": "markdown",
   "id": "338890a6",
   "metadata": {},
   "source": [
    "# Types of Hypothesis Testing"
   ]
  },
  {
   "cell_type": "markdown",
   "id": "37e97f00",
   "metadata": {},
   "source": [
    "## Chi-square test (for catgorical data)\n"
   ]
  },
  {
   "cell_type": "markdown",
   "id": "bf01768c",
   "metadata": {},
   "source": [
    "Chi-square test is used to check if the expected frequency distribution of a categorical variable is significantly different from the observed frequency distribution. It can also be used to decide whether data correlates with the categorical variables.\n",
    "\n",
    "For example\n",
    "If there 40 students in a class and they are to be divided into 4 groups, the likely expectation would be to equally split the students into 4 groups. But if what actually happens is an uneven distribution of the students for example: Group 1: 11, Group 2: 12, Group 3: 6, Group 4: 11\n",
    "\n",
    "Expectation: 10, 10, 10, 10\n",
    "Observation: 11, 12, 7, 10\n",
    "The chi-square test can test if the observed distribution is significantly different from the expected distribution. Thus, it helps determine whether a difference between two categorical variables is due to chance or a relationship between them.\n",
    "\n",
    "$$χ² = ∑(Oᵢ – Eᵢ)²/Eᵢ$$\n",
    "\n",
    "Where:\n",
    "<br>\n",
    "    χ² = Chi-squared<br>\n",
    "    Oᵢ = Observed value<br>\n",
    "    Eᵢ = Expected value\n",
    "\n"
   ]
  },
  {
   "cell_type": "markdown",
   "id": "a6b6a5bc",
   "metadata": {},
   "source": [
    "## ANOVA (for comparing more than two means)"
   ]
  },
  {
   "cell_type": "markdown",
   "id": "4cffaf24",
   "metadata": {},
   "source": [
    "##  Two Tailed Tests"
   ]
  },
  {
   "cell_type": "markdown",
   "id": "006fca21",
   "metadata": {},
   "source": [
    "## Proportion Tests"
   ]
  }
 ],
 "metadata": {
  "language_info": {
   "name": "python"
  }
 },
 "nbformat": 4,
 "nbformat_minor": 5
}
