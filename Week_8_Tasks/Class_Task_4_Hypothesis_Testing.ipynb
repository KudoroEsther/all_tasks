{
 "cells": [
  {
   "cell_type": "markdown",
   "id": "338890a6",
   "metadata": {},
   "source": [
    "# Types of Hypothesis Testing"
   ]
  },
  {
   "cell_type": "markdown",
   "id": "37e97f00",
   "metadata": {},
   "source": [
    "## Chi-square test (for catgorical data)\n"
   ]
  },
  {
   "cell_type": "markdown",
   "id": "a6b6a5bc",
   "metadata": {},
   "source": [
    "## ANOVA (for comparing more than two means)"
   ]
  },
  {
   "cell_type": "markdown",
   "id": "4cffaf24",
   "metadata": {},
   "source": [
    "##  Two Tailed Tests"
   ]
  },
  {
   "cell_type": "markdown",
   "id": "006fca21",
   "metadata": {},
   "source": [
    "## Proportion Tests"
   ]
  }
 ],
 "metadata": {
  "language_info": {
   "name": "python"
  }
 },
 "nbformat": 4,
 "nbformat_minor": 5
}
