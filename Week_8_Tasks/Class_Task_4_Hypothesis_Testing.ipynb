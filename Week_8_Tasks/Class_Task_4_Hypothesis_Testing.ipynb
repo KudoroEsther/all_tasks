{
 "cells": [
  {
   "cell_type": "markdown",
   "id": "338890a6",
   "metadata": {},
   "source": [
    "# Types of Hypothesis Testing"
   ]
  },
  {
   "cell_type": "markdown",
   "id": "37e97f00",
   "metadata": {},
   "source": [
    "## Chi-square test (for catgorical data)\n"
   ]
  },
  {
   "cell_type": "markdown",
   "id": "bf01768c",
   "metadata": {},
   "source": [
    "Chi-square test is used to check if the expected frequency distribution of a categorical variable is significantly different from the observed frequency distribution. It can also be used to decide whether data correlates with the categorical variables.\n",
    "\n",
    "For example\n",
    "If there 40 students in a class and they are to be divided into 4 groups, the likely expectation would be to equally split the students into 4 groups. But if what actually happens is an uneven distribution of the students for example: Group 1: 11, Group 2: 12, Group 3: 7, Group 4: 10\n",
    "\n",
    "Expectation: 10, 10, 10, 10<br>\n",
    "Observation: 11, 12, 7, 10<br>\n",
    "The chi-square test can test if the observed distribution is significantly different from the expected distribution. Thus, it helps determine whether a difference between two categorical variables is due to chance or a relationship between them.\n",
    "\n",
    "$$χ² = ∑(Oᵢ – Eᵢ)²/Eᵢ$$\n",
    "\n",
    "Where:\n",
    "<br>\n",
    "    χ² = Chi-squared<br>\n",
    "    Oᵢ = Observed value<br>\n",
    "    Eᵢ = Expected value\n",
    "\n"
   ]
  },
  {
   "cell_type": "markdown",
   "id": "a6b6a5bc",
   "metadata": {},
   "source": [
    "## ANOVA (for comparing more than two means)"
   ]
  },
  {
   "cell_type": "markdown",
   "id": "8a520109",
   "metadata": {},
   "source": [
    "ANOVA (Analysis of Variance) is a statistical test used to compare the means of more than two groups by analyzing variance. This test is used in hypothesis testing to check if the null hypothesis can be rejected or not\n",
    "\n",
    "**Types of ANOVA**<br>\n",
    "One way ANOVA: uses one independent variable<br>\n",
    "Two way ANOVA: uses two independent variables\n",
    "\n",
    "**One Way ANOVA**<br>\n",
    "Null Hypothesis(H₀) = there is no significant difference between the group means<br>\n",
    "Alternative Hypothesis (H₁) = there is a significant difference between the group means<br>\n",
    "If the ANOVA test statistics > critical value (α) then reject the null hypothesis and conclude that the means of the groups being compared are statistically significant.\n",
    "\n",
    "<br><br>\n",
    "**ANOVA Formula** <br>\n",
    "ANOVA test statistics: $$f = MSB / MSE$$\n",
    "<br>\n",
    "MSB = mean square between groups<br>\n",
    "MSE = mean squares of errors<br>\n",
    "\n",
    "\n",
    "$$MSB = ∑nᵢ(x̄ᵢ - x̄)²/(k-1)$$\n",
    "Where:<br>\n",
    "nᵢ = the sample size of the ith <br>\n",
    "x̄ᵢ = the mean of the ith group<br>\n",
    "x̄ = the overall mean<br>\n",
    "k = number of groups<br>\n",
    "\n",
    "\n",
    "$$MSE = ∑∑(x - x̄ᵢ)²/(N-k)$$\n",
    "Where:<br>\n",
    "x = each data point in the ith group<br>\n",
    "x̄ᵢ = the mean of the ith group<br>\n",
    "N = total number of observations across k groups<br>\n",
    "k = number of groups<br>"
   ]
  },
  {
   "cell_type": "markdown",
   "id": "4cffaf24",
   "metadata": {},
   "source": [
    "##  Two Tailed Tests"
   ]
  },
  {
   "cell_type": "markdown",
   "id": "6bcf6902",
   "metadata": {},
   "source": [
    "A two-tailed test in statistics evaluates whether a sample significantly differs from a population mean, either exceeding or falling short by examining both ends of a distribution. It's a fundamental tool in null-hypothesis testing used across various fields like manufacturing quality control and financial analysis.\n",
    "\n",
    "A two-tailed hypothesis test is designed to show whether the sample mean is significantly greater than or significantly less than the mean of a population. To compare the two means, standard normal distributions and z-scores are used.\n",
    "<br><br>\n",
    "Using the standard normal distribution curve, if the result of the two-tailed test falls into the critical region, then it means there is not enough evidence to reject the null hypothesis, in other words, the difference between the sample and the population means is not statistically significant.\n",
    "<br><br>\n",
    "Using Z-score: A Z-score numerically describes a value's relationship to the mean of a group of values and is measured in terms of the number of standard deviations from the mean. If a Z-score is 0, it indicates that the data point's score is identical to the mean score whereas Z-scores of 1.0 and -1.0 would indicate values one standard deviation above or below the mean. In most large data sets, 99% of values have a Z-score between -3 and 3, meaning they lie within three standard deviations above and below the mean."
   ]
  },
  {
   "cell_type": "markdown",
   "id": "006fca21",
   "metadata": {},
   "source": [
    "## Proportion Tests"
   ]
  },
  {
   "cell_type": "markdown",
   "id": "539c06aa",
   "metadata": {},
   "source": [
    "The proportion test compares the sample's proportion to the population's proportion or compares the sample's proportion to the proportion of another sample.\n",
    "\n",
    "**Types of Proportion Test**<br>\n",
    "**One Sample Proportion test:** This checks if the known proportion is statistically correct, based on the smaple proportion and the sample size. The null hypothesis assumes that the known proportion is correct\n",
    "<br>\n",
    "\n",
    "**Two Sample Proportion Test:** This test checks if the proportion of group1 is the same as the proportion of group2. The null hypothesis assumes that the known difference between the groups is zero"
   ]
  }
 ],
 "metadata": {
  "language_info": {
   "name": "python"
  }
 },
 "nbformat": 4,
 "nbformat_minor": 5
}
