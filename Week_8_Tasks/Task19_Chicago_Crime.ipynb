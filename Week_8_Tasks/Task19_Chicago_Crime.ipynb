{
 "cells": [
  {
   "cell_type": "markdown",
   "id": "a21f3727",
   "metadata": {},
   "source": [
    "# Chicago Crime Analysis"
   ]
  },
  {
   "cell_type": "markdown",
   "id": "71504c51",
   "metadata": {},
   "source": [
    "## Data Loading"
   ]
  },
  {
   "cell_type": "code",
   "execution_count": null,
   "id": "48721947",
   "metadata": {},
   "outputs": [],
   "source": [
    "#Importing the necessary libraries\n",
    "\n",
    "#libraries for data wrangling\n",
    "import gdown\n",
    "import pandas as pd\n",
    "import numpy as np\n",
    "\n",
    "#libraries for visualization\n",
    "import matplotlib.pyplot as plt\n",
    "# import seaborn as sns\n",
    "\n",
    "#libraries for time\n",
    "from datetime import datetime, timedelta\n",
    "\n",
    "#ignore warnings\n",
    "import warnings\n",
    "warnings.filterwarnings('ignore')\n",
    "\n",
    "#set up views\n",
    "pd.set_option('display.max_columns', None)\n",
    "pd.set_option('display.width', 1000)"
   ]
  },
  {
   "cell_type": "code",
   "execution_count": 4,
   "id": "fe0e962f",
   "metadata": {},
   "outputs": [],
   "source": [
    "# #Load the data\n",
    "\n",
    "# url = \"https://drive.google.com/file/d/1ib1PWK_3oaaSfThqfnfSoPZq7vA1g33X/view?usp=sharing\"\n",
    "# id = \"1ib1PWK_3oaaSfThqfnfSoPZq7vA1g33X\"\n",
    "\n",
    "# gdown.download(f\"https://drive.google.com/uc?id={id}\", quiet=False)\n",
    "\n",
    "# df = "
   ]
  },
  {
   "cell_type": "code",
   "execution_count": 5,
   "id": "b4905d0d",
   "metadata": {},
   "outputs": [
    {
     "data": {
      "text/html": [
       "<div>\n",
       "<style scoped>\n",
       "    .dataframe tbody tr th:only-of-type {\n",
       "        vertical-align: middle;\n",
       "    }\n",
       "\n",
       "    .dataframe tbody tr th {\n",
       "        vertical-align: top;\n",
       "    }\n",
       "\n",
       "    .dataframe thead th {\n",
       "        text-align: right;\n",
       "    }\n",
       "</style>\n",
       "<table border=\"1\" class=\"dataframe\">\n",
       "  <thead>\n",
       "    <tr style=\"text-align: right;\">\n",
       "      <th></th>\n",
       "      <th>ID</th>\n",
       "      <th>Case Number</th>\n",
       "      <th>Date</th>\n",
       "      <th>Block</th>\n",
       "      <th>IUCR</th>\n",
       "      <th>Primary Type</th>\n",
       "      <th>Description</th>\n",
       "      <th>Location Description</th>\n",
       "      <th>Arrest</th>\n",
       "      <th>Domestic</th>\n",
       "      <th>Beat</th>\n",
       "      <th>District</th>\n",
       "      <th>Ward</th>\n",
       "      <th>Community Area</th>\n",
       "      <th>FBI Code</th>\n",
       "      <th>X Coordinate</th>\n",
       "      <th>Y Coordinate</th>\n",
       "      <th>Year</th>\n",
       "      <th>Updated On</th>\n",
       "      <th>Latitude</th>\n",
       "      <th>Longitude</th>\n",
       "      <th>Location</th>\n",
       "    </tr>\n",
       "  </thead>\n",
       "  <tbody>\n",
       "    <tr>\n",
       "      <th>7784659</th>\n",
       "      <td>12847575</td>\n",
       "      <td>JF420478</td>\n",
       "      <td>09/01/2022 05:00:00 AM</td>\n",
       "      <td>005XX W SURF ST</td>\n",
       "      <td>2825</td>\n",
       "      <td>OTHER OFFENSE</td>\n",
       "      <td>HARASSMENT BY TELEPHONE</td>\n",
       "      <td>RESIDENCE</td>\n",
       "      <td>False</td>\n",
       "      <td>True</td>\n",
       "      <td>1934</td>\n",
       "      <td>19.0</td>\n",
       "      <td>44.0</td>\n",
       "      <td>6.0</td>\n",
       "      <td>26</td>\n",
       "      <td>1172497.0</td>\n",
       "      <td>1919410.0</td>\n",
       "      <td>2022</td>\n",
       "      <td>01/03/2023 03:46:28 PM</td>\n",
       "      <td>41.934305</td>\n",
       "      <td>-87.641485</td>\n",
       "      <td>(41.934304581, -87.641484982)</td>\n",
       "    </tr>\n",
       "    <tr>\n",
       "      <th>7784660</th>\n",
       "      <td>12847801</td>\n",
       "      <td>JF420319</td>\n",
       "      <td>07/08/2022 12:00:00 AM</td>\n",
       "      <td>114XX S PRAIRIE AVE</td>\n",
       "      <td>1130</td>\n",
       "      <td>DECEPTIVE PRACTICE</td>\n",
       "      <td>FRAUD OR CONFIDENCE GAME</td>\n",
       "      <td>STREET</td>\n",
       "      <td>False</td>\n",
       "      <td>False</td>\n",
       "      <td>531</td>\n",
       "      <td>5.0</td>\n",
       "      <td>9.0</td>\n",
       "      <td>49.0</td>\n",
       "      <td>11</td>\n",
       "      <td>1179966.0</td>\n",
       "      <td>1828818.0</td>\n",
       "      <td>2022</td>\n",
       "      <td>01/03/2023 03:46:28 PM</td>\n",
       "      <td>41.685544</td>\n",
       "      <td>-87.616813</td>\n",
       "      <td>(41.685543881, -87.616812541)</td>\n",
       "    </tr>\n",
       "    <tr>\n",
       "      <th>7784661</th>\n",
       "      <td>12847324</td>\n",
       "      <td>JF420102</td>\n",
       "      <td>09/27/2022 11:00:00 AM</td>\n",
       "      <td>023XX E 70TH ST</td>\n",
       "      <td>0810</td>\n",
       "      <td>THEFT</td>\n",
       "      <td>OVER $500</td>\n",
       "      <td>RESIDENCE</td>\n",
       "      <td>False</td>\n",
       "      <td>False</td>\n",
       "      <td>331</td>\n",
       "      <td>3.0</td>\n",
       "      <td>5.0</td>\n",
       "      <td>43.0</td>\n",
       "      <td>06</td>\n",
       "      <td>1193181.0</td>\n",
       "      <td>1859005.0</td>\n",
       "      <td>2022</td>\n",
       "      <td>01/03/2023 03:46:28 PM</td>\n",
       "      <td>41.768068</td>\n",
       "      <td>-87.567453</td>\n",
       "      <td>(41.768068052, -87.567452932)</td>\n",
       "    </tr>\n",
       "    <tr>\n",
       "      <th>7784662</th>\n",
       "      <td>12847570</td>\n",
       "      <td>JF420427</td>\n",
       "      <td>09/03/2022 10:25:00 AM</td>\n",
       "      <td>052XX W CARMEN AVE</td>\n",
       "      <td>2021</td>\n",
       "      <td>NARCOTICS</td>\n",
       "      <td>POSSESS - BARBITURATES</td>\n",
       "      <td>RESIDENCE - YARD (FRONT / BACK)</td>\n",
       "      <td>True</td>\n",
       "      <td>False</td>\n",
       "      <td>1623</td>\n",
       "      <td>16.0</td>\n",
       "      <td>45.0</td>\n",
       "      <td>11.0</td>\n",
       "      <td>18</td>\n",
       "      <td>1140553.0</td>\n",
       "      <td>1933418.0</td>\n",
       "      <td>2022</td>\n",
       "      <td>01/03/2023 03:46:28 PM</td>\n",
       "      <td>41.973391</td>\n",
       "      <td>-87.758535</td>\n",
       "      <td>(41.973391184, -87.758534512)</td>\n",
       "    </tr>\n",
       "    <tr>\n",
       "      <th>7784663</th>\n",
       "      <td>12840464</td>\n",
       "      <td>JF411839</td>\n",
       "      <td>09/26/2022 07:20:00 PM</td>\n",
       "      <td>0000X N MASON AVE</td>\n",
       "      <td>143A</td>\n",
       "      <td>WEAPONS VIOLATION</td>\n",
       "      <td>UNLAWFUL POSSESSION - HANDGUN</td>\n",
       "      <td>SIDEWALK</td>\n",
       "      <td>True</td>\n",
       "      <td>False</td>\n",
       "      <td>1513</td>\n",
       "      <td>15.0</td>\n",
       "      <td>29.0</td>\n",
       "      <td>25.0</td>\n",
       "      <td>15</td>\n",
       "      <td>1136773.0</td>\n",
       "      <td>1899652.0</td>\n",
       "      <td>2022</td>\n",
       "      <td>01/03/2023 03:46:28 PM</td>\n",
       "      <td>41.880802</td>\n",
       "      <td>-87.773246</td>\n",
       "      <td>(41.880802263, -87.773245737)</td>\n",
       "    </tr>\n",
       "  </tbody>\n",
       "</table>\n",
       "</div>"
      ],
      "text/plain": [
       "               ID Case Number                    Date                Block  IUCR        Primary Type                    Description             Location Description  Arrest  Domestic  Beat  District  Ward  Community Area FBI Code  X Coordinate  Y Coordinate  Year              Updated On   Latitude  Longitude                       Location\n",
       "7784659  12847575    JF420478  09/01/2022 05:00:00 AM      005XX W SURF ST  2825       OTHER OFFENSE        HARASSMENT BY TELEPHONE                        RESIDENCE   False      True  1934      19.0  44.0             6.0       26     1172497.0     1919410.0  2022  01/03/2023 03:46:28 PM  41.934305 -87.641485  (41.934304581, -87.641484982)\n",
       "7784660  12847801    JF420319  07/08/2022 12:00:00 AM  114XX S PRAIRIE AVE  1130  DECEPTIVE PRACTICE       FRAUD OR CONFIDENCE GAME                           STREET   False     False   531       5.0   9.0            49.0       11     1179966.0     1828818.0  2022  01/03/2023 03:46:28 PM  41.685544 -87.616813  (41.685543881, -87.616812541)\n",
       "7784661  12847324    JF420102  09/27/2022 11:00:00 AM      023XX E 70TH ST  0810               THEFT                      OVER $500                        RESIDENCE   False     False   331       3.0   5.0            43.0       06     1193181.0     1859005.0  2022  01/03/2023 03:46:28 PM  41.768068 -87.567453  (41.768068052, -87.567452932)\n",
       "7784662  12847570    JF420427  09/03/2022 10:25:00 AM   052XX W CARMEN AVE  2021           NARCOTICS         POSSESS - BARBITURATES  RESIDENCE - YARD (FRONT / BACK)    True     False  1623      16.0  45.0            11.0       18     1140553.0     1933418.0  2022  01/03/2023 03:46:28 PM  41.973391 -87.758535  (41.973391184, -87.758534512)\n",
       "7784663  12840464    JF411839  09/26/2022 07:20:00 PM    0000X N MASON AVE  143A   WEAPONS VIOLATION  UNLAWFUL POSSESSION - HANDGUN                         SIDEWALK    True     False  1513      15.0  29.0            25.0       15     1136773.0     1899652.0  2022  01/03/2023 03:46:28 PM  41.880802 -87.773246  (41.880802263, -87.773245737)"
      ]
     },
     "execution_count": 5,
     "metadata": {},
     "output_type": "execute_result"
    }
   ],
   "source": [
    "#Loading the data\n",
    "\n",
    "data_path = r\"archive.zip\"\n",
    "df = pd.read_csv(data_path, low_memory=True, compression='zip') #how to load zipped csv files\n",
    "df.tail()"
   ]
  },
  {
   "cell_type": "markdown",
   "id": "a83709b1",
   "metadata": {},
   "source": [
    "## Preliminary Data Analysis"
   ]
  },
  {
   "cell_type": "code",
   "execution_count": 7,
   "id": "83a1f2e3",
   "metadata": {},
   "outputs": [
    {
     "name": "stdout",
     "output_type": "stream",
     "text": [
      "<class 'pandas.core.frame.DataFrame'>\n",
      "RangeIndex: 7784664 entries, 0 to 7784663\n",
      "Data columns (total 22 columns):\n",
      " #   Column                Dtype  \n",
      "---  ------                -----  \n",
      " 0   ID                    int64  \n",
      " 1   Case Number           object \n",
      " 2   Date                  object \n",
      " 3   Block                 object \n",
      " 4   IUCR                  object \n",
      " 5   Primary Type          object \n",
      " 6   Description           object \n",
      " 7   Location Description  object \n",
      " 8   Arrest                bool   \n",
      " 9   Domestic              bool   \n",
      " 10  Beat                  int64  \n",
      " 11  District              float64\n",
      " 12  Ward                  float64\n",
      " 13  Community Area        float64\n",
      " 14  FBI Code              object \n",
      " 15  X Coordinate          float64\n",
      " 16  Y Coordinate          float64\n",
      " 17  Year                  int64  \n",
      " 18  Updated On            object \n",
      " 19  Latitude              float64\n",
      " 20  Longitude             float64\n",
      " 21  Location              object \n",
      "dtypes: bool(2), float64(7), int64(3), object(10)\n",
      "memory usage: 1.2+ GB\n"
     ]
    }
   ],
   "source": [
    "df.info()"
   ]
  },
  {
   "cell_type": "code",
   "execution_count": 15,
   "id": "c41f2a78",
   "metadata": {},
   "outputs": [
    {
     "name": "stdout",
     "output_type": "stream",
     "text": [
      "Dataset shape: (7784664, 22)\n"
     ]
    }
   ],
   "source": [
    "print(f\"Dataset shape: {df.shape}\")"
   ]
  },
  {
   "cell_type": "code",
   "execution_count": 16,
   "id": "2badd34d",
   "metadata": {},
   "outputs": [
    {
     "name": "stdout",
     "output_type": "stream",
     "text": [
      "Dataset columns: Index(['ID', 'Case Number', 'Date', 'Block', 'IUCR', 'Primary Type', 'Description', 'Location Description', 'Arrest', 'Domestic', 'Beat', 'District', 'Ward', 'Community Area', 'FBI Code', 'X Coordinate', 'Y Coordinate', 'Year', 'Updated On', 'Latitude', 'Longitude', 'Location'], dtype='object')\n"
     ]
    }
   ],
   "source": [
    "print(f\"Dataset columns: {df.columns}\")"
   ]
  },
  {
   "cell_type": "code",
   "execution_count": 17,
   "id": "e42afc9a",
   "metadata": {},
   "outputs": [
    {
     "name": "stdout",
     "output_type": "stream",
     "text": [
      "Columns containing null cells: \n",
      "ID                           0\n",
      "Case Number                  4\n",
      "Date                         0\n",
      "Block                        0\n",
      "IUCR                         0\n",
      "Primary Type                 0\n",
      "Description                  0\n",
      "Location Description     10381\n",
      "Arrest                       0\n",
      "Domestic                     0\n",
      "Beat                         0\n",
      "District                    47\n",
      "Ward                    614848\n",
      "Community Area          613476\n",
      "FBI Code                     0\n",
      "X Coordinate             86848\n",
      "Y Coordinate             86848\n",
      "Year                         0\n",
      "Updated On                   0\n",
      "Latitude                 86848\n",
      "Longitude                86848\n",
      "Location                 86848\n",
      "dtype: int64\n"
     ]
    }
   ],
   "source": [
    "print(f\"Columns containing null cells: \\n{df.isna().sum()}\")"
   ]
  },
  {
   "cell_type": "code",
   "execution_count": 24,
   "id": "f5f3e7e8",
   "metadata": {},
   "outputs": [
    {
     "name": "stdout",
     "output_type": "stream",
     "text": [
      "Duplicate entries 0\n"
     ]
    }
   ],
   "source": [
    "print(f\"Duplicate entries {df.duplicated().sum()}\")"
   ]
  },
  {
   "cell_type": "code",
   "execution_count": 6,
   "id": "a0526c3a",
   "metadata": {},
   "outputs": [
    {
     "data": {
      "text/html": [
       "<div>\n",
       "<style scoped>\n",
       "    .dataframe tbody tr th:only-of-type {\n",
       "        vertical-align: middle;\n",
       "    }\n",
       "\n",
       "    .dataframe tbody tr th {\n",
       "        vertical-align: top;\n",
       "    }\n",
       "\n",
       "    .dataframe thead th {\n",
       "        text-align: right;\n",
       "    }\n",
       "</style>\n",
       "<table border=\"1\" class=\"dataframe\">\n",
       "  <thead>\n",
       "    <tr style=\"text-align: right;\">\n",
       "      <th></th>\n",
       "      <th>ID</th>\n",
       "      <th>Beat</th>\n",
       "      <th>District</th>\n",
       "      <th>Ward</th>\n",
       "      <th>Community Area</th>\n",
       "      <th>X Coordinate</th>\n",
       "      <th>Y Coordinate</th>\n",
       "      <th>Year</th>\n",
       "      <th>Latitude</th>\n",
       "      <th>Longitude</th>\n",
       "    </tr>\n",
       "  </thead>\n",
       "  <tbody>\n",
       "    <tr>\n",
       "      <th>count</th>\n",
       "      <td>7.784664e+06</td>\n",
       "      <td>7.784664e+06</td>\n",
       "      <td>7.784617e+06</td>\n",
       "      <td>7.169816e+06</td>\n",
       "      <td>7.171188e+06</td>\n",
       "      <td>7.697816e+06</td>\n",
       "      <td>7.697816e+06</td>\n",
       "      <td>7.784664e+06</td>\n",
       "      <td>7.697816e+06</td>\n",
       "      <td>7.697816e+06</td>\n",
       "    </tr>\n",
       "    <tr>\n",
       "      <th>mean</th>\n",
       "      <td>7.026439e+06</td>\n",
       "      <td>1.185918e+03</td>\n",
       "      <td>1.129466e+01</td>\n",
       "      <td>2.275420e+01</td>\n",
       "      <td>3.748472e+01</td>\n",
       "      <td>1.164601e+06</td>\n",
       "      <td>1.885783e+06</td>\n",
       "      <td>2.009944e+03</td>\n",
       "      <td>4.184218e+01</td>\n",
       "      <td>-8.767149e+01</td>\n",
       "    </tr>\n",
       "    <tr>\n",
       "      <th>std</th>\n",
       "      <td>3.502657e+06</td>\n",
       "      <td>7.031335e+02</td>\n",
       "      <td>6.952422e+00</td>\n",
       "      <td>1.385106e+01</td>\n",
       "      <td>2.154115e+01</td>\n",
       "      <td>1.684658e+04</td>\n",
       "      <td>3.227531e+04</td>\n",
       "      <td>6.260628e+00</td>\n",
       "      <td>8.879598e-02</td>\n",
       "      <td>6.108257e-02</td>\n",
       "    </tr>\n",
       "    <tr>\n",
       "      <th>min</th>\n",
       "      <td>6.340000e+02</td>\n",
       "      <td>1.110000e+02</td>\n",
       "      <td>1.000000e+00</td>\n",
       "      <td>1.000000e+00</td>\n",
       "      <td>0.000000e+00</td>\n",
       "      <td>0.000000e+00</td>\n",
       "      <td>0.000000e+00</td>\n",
       "      <td>2.001000e+03</td>\n",
       "      <td>3.661945e+01</td>\n",
       "      <td>-9.168657e+01</td>\n",
       "    </tr>\n",
       "    <tr>\n",
       "      <th>25%</th>\n",
       "      <td>3.792574e+06</td>\n",
       "      <td>6.210000e+02</td>\n",
       "      <td>6.000000e+00</td>\n",
       "      <td>1.000000e+01</td>\n",
       "      <td>2.300000e+01</td>\n",
       "      <td>1.152976e+06</td>\n",
       "      <td>1.859073e+06</td>\n",
       "      <td>2.005000e+03</td>\n",
       "      <td>4.176871e+01</td>\n",
       "      <td>-8.771367e+01</td>\n",
       "    </tr>\n",
       "    <tr>\n",
       "      <th>50%</th>\n",
       "      <td>7.029327e+06</td>\n",
       "      <td>1.034000e+03</td>\n",
       "      <td>1.000000e+01</td>\n",
       "      <td>2.300000e+01</td>\n",
       "      <td>3.200000e+01</td>\n",
       "      <td>1.166110e+06</td>\n",
       "      <td>1.890730e+06</td>\n",
       "      <td>2.009000e+03</td>\n",
       "      <td>4.185591e+01</td>\n",
       "      <td>-8.766584e+01</td>\n",
       "    </tr>\n",
       "    <tr>\n",
       "      <th>75%</th>\n",
       "      <td>1.013113e+07</td>\n",
       "      <td>1.731000e+03</td>\n",
       "      <td>1.700000e+01</td>\n",
       "      <td>3.400000e+01</td>\n",
       "      <td>5.700000e+01</td>\n",
       "      <td>1.176372e+06</td>\n",
       "      <td>1.909273e+06</td>\n",
       "      <td>2.015000e+03</td>\n",
       "      <td>4.190677e+01</td>\n",
       "      <td>-8.762819e+01</td>\n",
       "    </tr>\n",
       "    <tr>\n",
       "      <th>max</th>\n",
       "      <td>1.305643e+07</td>\n",
       "      <td>2.535000e+03</td>\n",
       "      <td>3.100000e+01</td>\n",
       "      <td>5.000000e+01</td>\n",
       "      <td>7.700000e+01</td>\n",
       "      <td>1.205119e+06</td>\n",
       "      <td>1.951622e+06</td>\n",
       "      <td>2.023000e+03</td>\n",
       "      <td>4.202291e+01</td>\n",
       "      <td>-8.752453e+01</td>\n",
       "    </tr>\n",
       "  </tbody>\n",
       "</table>\n",
       "</div>"
      ],
      "text/plain": [
       "                 ID          Beat      District          Ward  Community Area  X Coordinate  Y Coordinate          Year      Latitude     Longitude\n",
       "count  7.784664e+06  7.784664e+06  7.784617e+06  7.169816e+06    7.171188e+06  7.697816e+06  7.697816e+06  7.784664e+06  7.697816e+06  7.697816e+06\n",
       "mean   7.026439e+06  1.185918e+03  1.129466e+01  2.275420e+01    3.748472e+01  1.164601e+06  1.885783e+06  2.009944e+03  4.184218e+01 -8.767149e+01\n",
       "std    3.502657e+06  7.031335e+02  6.952422e+00  1.385106e+01    2.154115e+01  1.684658e+04  3.227531e+04  6.260628e+00  8.879598e-02  6.108257e-02\n",
       "min    6.340000e+02  1.110000e+02  1.000000e+00  1.000000e+00    0.000000e+00  0.000000e+00  0.000000e+00  2.001000e+03  3.661945e+01 -9.168657e+01\n",
       "25%    3.792574e+06  6.210000e+02  6.000000e+00  1.000000e+01    2.300000e+01  1.152976e+06  1.859073e+06  2.005000e+03  4.176871e+01 -8.771367e+01\n",
       "50%    7.029327e+06  1.034000e+03  1.000000e+01  2.300000e+01    3.200000e+01  1.166110e+06  1.890730e+06  2.009000e+03  4.185591e+01 -8.766584e+01\n",
       "75%    1.013113e+07  1.731000e+03  1.700000e+01  3.400000e+01    5.700000e+01  1.176372e+06  1.909273e+06  2.015000e+03  4.190677e+01 -8.762819e+01\n",
       "max    1.305643e+07  2.535000e+03  3.100000e+01  5.000000e+01    7.700000e+01  1.205119e+06  1.951622e+06  2.023000e+03  4.202291e+01 -8.752453e+01"
      ]
     },
     "execution_count": 6,
     "metadata": {},
     "output_type": "execute_result"
    }
   ],
   "source": [
    "df.describe()"
   ]
  },
  {
   "cell_type": "markdown",
   "id": "229daa1f",
   "metadata": {},
   "source": [
    "## Data Cleaning"
   ]
  },
  {
   "cell_type": "code",
   "execution_count": 21,
   "id": "4f700b3a",
   "metadata": {},
   "outputs": [],
   "source": [
    "# Dropping empty cells due the vast amount of empty cells\n",
    "\n",
    "df.dropna(axis= 0, inplace=True)\n"
   ]
  },
  {
   "cell_type": "code",
   "execution_count": 22,
   "id": "dfee63a4",
   "metadata": {},
   "outputs": [
    {
     "data": {
      "text/plain": [
       "ID                      0\n",
       "Case Number             0\n",
       "Date                    0\n",
       "Block                   0\n",
       "IUCR                    0\n",
       "Primary Type            0\n",
       "Description             0\n",
       "Location Description    0\n",
       "Arrest                  0\n",
       "Domestic                0\n",
       "Beat                    0\n",
       "District                0\n",
       "Ward                    0\n",
       "Community Area          0\n",
       "FBI Code                0\n",
       "X Coordinate            0\n",
       "Y Coordinate            0\n",
       "Year                    0\n",
       "Updated On              0\n",
       "Latitude                0\n",
       "Longitude               0\n",
       "Location                0\n",
       "dtype: int64"
      ]
     },
     "execution_count": 22,
     "metadata": {},
     "output_type": "execute_result"
    }
   ],
   "source": [
    "df.isna().sum()"
   ]
  },
  {
   "cell_type": "code",
   "execution_count": 23,
   "id": "53280c1a",
   "metadata": {},
   "outputs": [
    {
     "data": {
      "text/plain": [
       "(7084435, 22)"
      ]
     },
     "execution_count": 23,
     "metadata": {},
     "output_type": "execute_result"
    }
   ],
   "source": [
    "df.shape"
   ]
  },
  {
   "cell_type": "markdown",
   "id": "5889e43b",
   "metadata": {},
   "source": [
    "## Exploratory Data Analysis"
   ]
  }
 ],
 "metadata": {
  "kernelspec": {
   "display_name": "Pandass",
   "language": "python",
   "name": "python3"
  },
  "language_info": {
   "codemirror_mode": {
    "name": "ipython",
    "version": 3
   },
   "file_extension": ".py",
   "mimetype": "text/x-python",
   "name": "python",
   "nbconvert_exporter": "python",
   "pygments_lexer": "ipython3",
   "version": "3.13.6"
  }
 },
 "nbformat": 4,
 "nbformat_minor": 5
}
