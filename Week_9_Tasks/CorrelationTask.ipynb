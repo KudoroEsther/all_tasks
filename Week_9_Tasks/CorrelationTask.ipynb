{
 "cells": [
  {
   "cell_type": "markdown",
   "id": "4b054f31",
   "metadata": {},
   "source": [
    "# Correlation Analysis"
   ]
  },
  {
   "cell_type": "code",
   "execution_count": 22,
   "id": "aee1aa3f",
   "metadata": {},
   "outputs": [],
   "source": [
    "import pandas as pd\n",
    "import numpy as np\n",
    "import gdown\n",
    "import matplotlib.pyplot as plt\n",
    "import seaborn as sns"
   ]
  },
  {
   "cell_type": "code",
   "execution_count": 2,
   "id": "dbd3728f",
   "metadata": {},
   "outputs": [
    {
     "name": "stderr",
     "output_type": "stream",
     "text": [
      "Downloading...\n",
      "From: https://drive.google.com/uc?id=1yB5qSBOLl96Y563nIewKOU8RN_gsY3dO\n",
      "To: c:\\Users\\ncc333\\Desktop\\DataAndDataAnalysis\\Numpy\\Class_Task6\\data.csv\n",
      "100%|██████████| 52.0k/52.0k [00:00<00:00, 55.5MB/s]\n"
     ]
    },
    {
     "data": {
      "text/plain": [
       "'data.csv'"
      ]
     },
     "execution_count": 2,
     "metadata": {},
     "output_type": "execute_result"
    }
   ],
   "source": [
    "file_id = '1yB5qSBOLl96Y563nIewKOU8RN_gsY3dO'  # Make sure it's a string\n",
    "gdown.download(f'https://drive.google.com/uc?id={file_id}', 'data.csv', quiet=False)\n"
   ]
  },
  {
   "cell_type": "code",
   "execution_count": 4,
   "id": "2ff9ad4b",
   "metadata": {},
   "outputs": [
    {
     "data": {
      "text/html": [
       "<div>\n",
       "<style scoped>\n",
       "    .dataframe tbody tr th:only-of-type {\n",
       "        vertical-align: middle;\n",
       "    }\n",
       "\n",
       "    .dataframe tbody tr th {\n",
       "        vertical-align: top;\n",
       "    }\n",
       "\n",
       "    .dataframe thead th {\n",
       "        text-align: right;\n",
       "    }\n",
       "</style>\n",
       "<table border=\"1\" class=\"dataframe\">\n",
       "  <thead>\n",
       "    <tr style=\"text-align: right;\">\n",
       "      <th></th>\n",
       "      <th>Unnamed: 0</th>\n",
       "      <th>country</th>\n",
       "      <th>food_category</th>\n",
       "      <th>consumption</th>\n",
       "      <th>co2_emission</th>\n",
       "    </tr>\n",
       "  </thead>\n",
       "  <tbody>\n",
       "    <tr>\n",
       "      <th>0</th>\n",
       "      <td>1</td>\n",
       "      <td>Argentina</td>\n",
       "      <td>pork</td>\n",
       "      <td>10.51</td>\n",
       "      <td>37.20</td>\n",
       "    </tr>\n",
       "    <tr>\n",
       "      <th>1</th>\n",
       "      <td>2</td>\n",
       "      <td>Argentina</td>\n",
       "      <td>poultry</td>\n",
       "      <td>38.66</td>\n",
       "      <td>41.53</td>\n",
       "    </tr>\n",
       "    <tr>\n",
       "      <th>2</th>\n",
       "      <td>3</td>\n",
       "      <td>Argentina</td>\n",
       "      <td>beef</td>\n",
       "      <td>55.48</td>\n",
       "      <td>1712.00</td>\n",
       "    </tr>\n",
       "    <tr>\n",
       "      <th>3</th>\n",
       "      <td>4</td>\n",
       "      <td>Argentina</td>\n",
       "      <td>lamb_goat</td>\n",
       "      <td>1.56</td>\n",
       "      <td>54.63</td>\n",
       "    </tr>\n",
       "    <tr>\n",
       "      <th>4</th>\n",
       "      <td>5</td>\n",
       "      <td>Argentina</td>\n",
       "      <td>fish</td>\n",
       "      <td>4.36</td>\n",
       "      <td>6.96</td>\n",
       "    </tr>\n",
       "  </tbody>\n",
       "</table>\n",
       "</div>"
      ],
      "text/plain": [
       "   Unnamed: 0    country food_category  consumption  co2_emission\n",
       "0           1  Argentina          pork        10.51         37.20\n",
       "1           2  Argentina       poultry        38.66         41.53\n",
       "2           3  Argentina          beef        55.48       1712.00\n",
       "3           4  Argentina     lamb_goat         1.56         54.63\n",
       "4           5  Argentina          fish         4.36          6.96"
      ]
     },
     "execution_count": 4,
     "metadata": {},
     "output_type": "execute_result"
    }
   ],
   "source": [
    "df = pd.read_csv('data.csv')\n",
    "df.head()"
   ]
  },
  {
   "cell_type": "code",
   "execution_count": 5,
   "id": "e12c8753",
   "metadata": {},
   "outputs": [],
   "source": [
    "from scipy import stats"
   ]
  },
  {
   "cell_type": "code",
   "execution_count": 6,
   "id": "ec8cae88",
   "metadata": {},
   "outputs": [
    {
     "data": {
      "text/html": [
       "<div>\n",
       "<style scoped>\n",
       "    .dataframe tbody tr th:only-of-type {\n",
       "        vertical-align: middle;\n",
       "    }\n",
       "\n",
       "    .dataframe tbody tr th {\n",
       "        vertical-align: top;\n",
       "    }\n",
       "\n",
       "    .dataframe thead th {\n",
       "        text-align: right;\n",
       "    }\n",
       "</style>\n",
       "<table border=\"1\" class=\"dataframe\">\n",
       "  <thead>\n",
       "    <tr style=\"text-align: right;\">\n",
       "      <th></th>\n",
       "      <th>Unnamed: 0</th>\n",
       "      <th>country</th>\n",
       "      <th>food_category</th>\n",
       "      <th>consumption</th>\n",
       "      <th>co2_emission</th>\n",
       "    </tr>\n",
       "  </thead>\n",
       "  <tbody>\n",
       "    <tr>\n",
       "      <th>0</th>\n",
       "      <td>1</td>\n",
       "      <td>Argentina</td>\n",
       "      <td>pork</td>\n",
       "      <td>10.51</td>\n",
       "      <td>37.20</td>\n",
       "    </tr>\n",
       "    <tr>\n",
       "      <th>1</th>\n",
       "      <td>2</td>\n",
       "      <td>Argentina</td>\n",
       "      <td>poultry</td>\n",
       "      <td>38.66</td>\n",
       "      <td>41.53</td>\n",
       "    </tr>\n",
       "    <tr>\n",
       "      <th>2</th>\n",
       "      <td>3</td>\n",
       "      <td>Argentina</td>\n",
       "      <td>beef</td>\n",
       "      <td>55.48</td>\n",
       "      <td>1712.00</td>\n",
       "    </tr>\n",
       "    <tr>\n",
       "      <th>3</th>\n",
       "      <td>4</td>\n",
       "      <td>Argentina</td>\n",
       "      <td>lamb_goat</td>\n",
       "      <td>1.56</td>\n",
       "      <td>54.63</td>\n",
       "    </tr>\n",
       "    <tr>\n",
       "      <th>4</th>\n",
       "      <td>5</td>\n",
       "      <td>Argentina</td>\n",
       "      <td>fish</td>\n",
       "      <td>4.36</td>\n",
       "      <td>6.96</td>\n",
       "    </tr>\n",
       "    <tr>\n",
       "      <th>...</th>\n",
       "      <td>...</td>\n",
       "      <td>...</td>\n",
       "      <td>...</td>\n",
       "      <td>...</td>\n",
       "      <td>...</td>\n",
       "    </tr>\n",
       "    <tr>\n",
       "      <th>1425</th>\n",
       "      <td>1426</td>\n",
       "      <td>Bangladesh</td>\n",
       "      <td>dairy</td>\n",
       "      <td>21.91</td>\n",
       "      <td>31.21</td>\n",
       "    </tr>\n",
       "    <tr>\n",
       "      <th>1426</th>\n",
       "      <td>1427</td>\n",
       "      <td>Bangladesh</td>\n",
       "      <td>wheat</td>\n",
       "      <td>17.47</td>\n",
       "      <td>3.33</td>\n",
       "    </tr>\n",
       "    <tr>\n",
       "      <th>1427</th>\n",
       "      <td>1428</td>\n",
       "      <td>Bangladesh</td>\n",
       "      <td>rice</td>\n",
       "      <td>171.73</td>\n",
       "      <td>219.76</td>\n",
       "    </tr>\n",
       "    <tr>\n",
       "      <th>1428</th>\n",
       "      <td>1429</td>\n",
       "      <td>Bangladesh</td>\n",
       "      <td>soybeans</td>\n",
       "      <td>0.61</td>\n",
       "      <td>0.27</td>\n",
       "    </tr>\n",
       "    <tr>\n",
       "      <th>1429</th>\n",
       "      <td>1430</td>\n",
       "      <td>Bangladesh</td>\n",
       "      <td>nuts</td>\n",
       "      <td>0.72</td>\n",
       "      <td>1.27</td>\n",
       "    </tr>\n",
       "  </tbody>\n",
       "</table>\n",
       "<p>1430 rows × 5 columns</p>\n",
       "</div>"
      ],
      "text/plain": [
       "      Unnamed: 0     country food_category  consumption  co2_emission\n",
       "0              1   Argentina          pork        10.51         37.20\n",
       "1              2   Argentina       poultry        38.66         41.53\n",
       "2              3   Argentina          beef        55.48       1712.00\n",
       "3              4   Argentina     lamb_goat         1.56         54.63\n",
       "4              5   Argentina          fish         4.36          6.96\n",
       "...          ...         ...           ...          ...           ...\n",
       "1425        1426  Bangladesh         dairy        21.91         31.21\n",
       "1426        1427  Bangladesh         wheat        17.47          3.33\n",
       "1427        1428  Bangladesh          rice       171.73        219.76\n",
       "1428        1429  Bangladesh      soybeans         0.61          0.27\n",
       "1429        1430  Bangladesh          nuts         0.72          1.27\n",
       "\n",
       "[1430 rows x 5 columns]"
      ]
     },
     "execution_count": 6,
     "metadata": {},
     "output_type": "execute_result"
    }
   ],
   "source": [
    "df"
   ]
  },
  {
   "cell_type": "markdown",
   "id": "f46b771c",
   "metadata": {},
   "source": [
    "### One-Sample t-Test"
   ]
  },
  {
   "cell_type": "markdown",
   "id": "fbefda22",
   "metadata": {},
   "source": [
    "Question: Is the average beef consumption in Argentina significantly different from 50 kg/person/year?"
   ]
  },
  {
   "cell_type": "markdown",
   "id": "bc10ba3a",
   "metadata": {},
   "source": [
    "H₀: Mean beef consumption in Argentina = 50\n",
    "\n",
    "H₁: Mean beef consumption in Argentina ≠ 50"
   ]
  },
  {
   "cell_type": "code",
   "execution_count": null,
   "id": "71068451",
   "metadata": {},
   "outputs": [],
   "source": [
    "# df.drop('Unnamed: 0', axis=1, inplace=True)"
   ]
  },
  {
   "cell_type": "code",
   "execution_count": 11,
   "id": "29ef90c2",
   "metadata": {},
   "outputs": [
    {
     "data": {
      "text/html": [
       "<div>\n",
       "<style scoped>\n",
       "    .dataframe tbody tr th:only-of-type {\n",
       "        vertical-align: middle;\n",
       "    }\n",
       "\n",
       "    .dataframe tbody tr th {\n",
       "        vertical-align: top;\n",
       "    }\n",
       "\n",
       "    .dataframe thead th {\n",
       "        text-align: right;\n",
       "    }\n",
       "</style>\n",
       "<table border=\"1\" class=\"dataframe\">\n",
       "  <thead>\n",
       "    <tr style=\"text-align: right;\">\n",
       "      <th></th>\n",
       "      <th>country</th>\n",
       "      <th>food_category</th>\n",
       "      <th>consumption</th>\n",
       "      <th>co2_emission</th>\n",
       "    </tr>\n",
       "  </thead>\n",
       "  <tbody>\n",
       "    <tr>\n",
       "      <th>2</th>\n",
       "      <td>Argentina</td>\n",
       "      <td>beef</td>\n",
       "      <td>55.48</td>\n",
       "      <td>1712.0</td>\n",
       "    </tr>\n",
       "  </tbody>\n",
       "</table>\n",
       "</div>"
      ],
      "text/plain": [
       "     country food_category  consumption  co2_emission\n",
       "2  Argentina          beef        55.48        1712.0"
      ]
     },
     "execution_count": 11,
     "metadata": {},
     "output_type": "execute_result"
    }
   ],
   "source": [
    "# Select Argentina beef consumption\n",
    "arg_beef = df[(df[\"country\"] == \"Argentina\") & (df[\"food_category\"]==\"beef\")]\n",
    "arg_beef"
   ]
  },
  {
   "cell_type": "code",
   "execution_count": 12,
   "id": "2237fcf6",
   "metadata": {},
   "outputs": [
    {
     "data": {
      "text/plain": [
       "np.float64(55.48)"
      ]
     },
     "execution_count": 12,
     "metadata": {},
     "output_type": "execute_result"
    }
   ],
   "source": [
    "arg_consumption_mean = arg_beef[\"consumption\"].mean()\n",
    "arg_consumption_mean"
   ]
  },
  {
   "cell_type": "code",
   "execution_count": 31,
   "id": "a3268f41",
   "metadata": {},
   "outputs": [
    {
     "data": {
      "text/plain": [
       "array([55.34115149, 53.12205623, 57.74499579, 62.45652889, 51.48208183,\n",
       "       49.72242951, 49.56437853, 66.49547894, 58.84318593, 52.69183114,\n",
       "       54.38141966, 54.76485409, 51.70712006, 51.88843418, 61.97085708,\n",
       "       54.60766863, 53.11115219, 62.52039026, 50.29527882, 63.36735982,\n",
       "       56.71227694, 50.86234969, 52.12559627, 52.11945254, 54.33596089,\n",
       "       53.02108462, 50.723884  , 51.07848932, 55.94811756, 55.99167139])"
      ]
     },
     "execution_count": 31,
     "metadata": {},
     "output_type": "execute_result"
    }
   ],
   "source": [
    "#Creating samples around the mean\n",
    "arg_beef_samples = np.random.normal(loc=arg_consumption_mean, scale=5, size=30) #creates a normal distribution of 30 numbers +-5 values around the mean\n",
    "arg_beef_samples"
   ]
  },
  {
   "cell_type": "code",
   "execution_count": 14,
   "id": "4b8da0d0",
   "metadata": {},
   "outputs": [],
   "source": [
    "#One sample test\n",
    "t_stat, p_val = stats.ttest_1samp(rg_beef_samples, 50)"
   ]
  },
  {
   "cell_type": "code",
   "execution_count": 15,
   "id": "4e593750",
   "metadata": {},
   "outputs": [
    {
     "name": "stdout",
     "output_type": "stream",
     "text": [
      "T-statistic: 6.237619931433288\n"
     ]
    }
   ],
   "source": [
    "print(f\"T-statistic: {t_stat}\")"
   ]
  },
  {
   "cell_type": "code",
   "execution_count": 16,
   "id": "620f1d01",
   "metadata": {},
   "outputs": [
    {
     "name": "stdout",
     "output_type": "stream",
     "text": [
      "P-value: 8.316729267677788e-07\n"
     ]
    }
   ],
   "source": [
    "print(f\"P-value: {p_val}\")"
   ]
  },
  {
   "cell_type": "markdown",
   "id": "0713c4e2",
   "metadata": {},
   "source": [
    "since p< 0.05, H₀ will be rejected, where H₀ → beef consumption differs significantly"
   ]
  },
  {
   "cell_type": "markdown",
   "id": "567ecc60",
   "metadata": {},
   "source": [
    "Is there a relationship between food consumption and CO₂ emissions?\n",
    "H₀: No correlation between consumption and CO₂ emission\n",
    "H₁: There is a relationship correlation"
   ]
  },
  {
   "cell_type": "code",
   "execution_count": 17,
   "id": "1c8de605",
   "metadata": {},
   "outputs": [],
   "source": [
    "corr, p_val = stats.pearsonr(df['consumption'], df[\"co2_emission\"])"
   ]
  },
  {
   "cell_type": "code",
   "execution_count": 19,
   "id": "d98936cc",
   "metadata": {},
   "outputs": [
    {
     "name": "stdout",
     "output_type": "stream",
     "text": [
      "Coorelatioin Coefficient: 0.334250704433365\n"
     ]
    }
   ],
   "source": [
    "print(f\"Coorelatioin Coefficient: {corr}\")"
   ]
  },
  {
   "cell_type": "code",
   "execution_count": 20,
   "id": "e7e41d21",
   "metadata": {},
   "outputs": [
    {
     "name": "stdout",
     "output_type": "stream",
     "text": [
      "P-Value: 1.1519382934888456e-38\n"
     ]
    }
   ],
   "source": [
    "print(f\"P-Value: {p_val}\")"
   ]
  },
  {
   "cell_type": "markdown",
   "id": "4d06ce71",
   "metadata": {},
   "source": [
    "Correlation coefficient (r):\n",
    "close to zero: no relation"
   ]
  },
  {
   "cell_type": "code",
   "execution_count": 23,
   "id": "e22389ba",
   "metadata": {},
   "outputs": [
    {
     "data": {
      "image/png": "[encoded data removed]",
      "text/plain": [
       "<Figure size 800x600 with 1 Axes>"
      ]
     },
     "metadata": {},
     "output_type": "display_data"
    }
   ],
   "source": [
    "plt.figure(figsize=(8,6))\n",
    "sns.scatterplot(x=\"consumption\", y=\"co2_emission\", data=df)\n",
    "plt.title(\"Consumptoin vs CO₂ Emission\")\n",
    "plt.show()"
   ]
  },
  {
   "cell_type": "markdown",
   "id": "74a16322",
   "metadata": {},
   "source": [
    "Is the beef consumption in Argentina significantly different from that in Bangladesh?\n",
    "\n",
    "H₀: Mean beef consumption (Argentina) = Mean beef consumption (Bangladesh)\n",
    "\n",
    "H₁: Mean beef consumption (Argentina) ≠ Mean beef consumption (Bangladesh)"
   ]
  },
  {
   "cell_type": "code",
   "execution_count": 25,
   "id": "f7326bc0",
   "metadata": {},
   "outputs": [
    {
     "data": {
      "text/html": [
       "<div>\n",
       "<style scoped>\n",
       "    .dataframe tbody tr th:only-of-type {\n",
       "        vertical-align: middle;\n",
       "    }\n",
       "\n",
       "    .dataframe tbody tr th {\n",
       "        vertical-align: top;\n",
       "    }\n",
       "\n",
       "    .dataframe thead th {\n",
       "        text-align: right;\n",
       "    }\n",
       "</style>\n",
       "<table border=\"1\" class=\"dataframe\">\n",
       "  <thead>\n",
       "    <tr style=\"text-align: right;\">\n",
       "      <th></th>\n",
       "      <th>country</th>\n",
       "      <th>food_category</th>\n",
       "      <th>consumption</th>\n",
       "      <th>co2_emission</th>\n",
       "    </tr>\n",
       "  </thead>\n",
       "  <tbody>\n",
       "    <tr>\n",
       "      <th>1421</th>\n",
       "      <td>Bangladesh</td>\n",
       "      <td>beef</td>\n",
       "      <td>1.28</td>\n",
       "      <td>39.5</td>\n",
       "    </tr>\n",
       "  </tbody>\n",
       "</table>\n",
       "</div>"
      ],
      "text/plain": [
       "         country food_category  consumption  co2_emission\n",
       "1421  Bangladesh          beef         1.28          39.5"
      ]
     },
     "execution_count": 25,
     "metadata": {},
     "output_type": "execute_result"
    }
   ],
   "source": [
    "bang_beef = df[(df[\"country\"] == \"Bangladesh\") & (df[\"food_category\"]==\"beef\")]\n",
    "bang_beef"
   ]
  },
  {
   "cell_type": "code",
   "execution_count": 27,
   "id": "be20bf22",
   "metadata": {},
   "outputs": [
    {
     "name": "stdout",
     "output_type": "stream",
     "text": [
      "Average beef consumption in Bangledesh: 1.28\n"
     ]
    }
   ],
   "source": [
    "bang_beef_mean = bang_beef[\"consumption\"].mean()\n",
    "print(f\"Average beef consumption in Bangledesh: {bang_beef_mean}\")"
   ]
  },
  {
   "cell_type": "code",
   "execution_count": 30,
   "id": "b81e0bb7",
   "metadata": {},
   "outputs": [
    {
     "data": {
      "text/plain": [
       "array([  4.76558691,  -3.96564133,  -2.40891496, -10.92765114,\n",
       "         3.34700562,   6.62958158,   5.08852781,  -8.53353981,\n",
       "        -7.25877498,  -2.40058103,  -4.98935406,  -2.06599106,\n",
       "        -1.60579229,   1.62933191,   1.27663558,  -0.88653129,\n",
       "         9.79618341,   9.35787561,  -3.20523712,  -2.96375983,\n",
       "         2.18830716,   7.87044107,   4.52657217,  -2.4992666 ,\n",
       "        -0.85708576,   6.71926343,  -8.24688307,   6.96861343,\n",
       "        10.42553747,   5.87684194])"
      ]
     },
     "execution_count": 30,
     "metadata": {},
     "output_type": "execute_result"
    }
   ],
   "source": [
    "#Creating samples\n",
    "bang_beef_samples = np.random.normal(loc=bang_beef_mean, scale=5, size=30)\n",
    "bang_beef_samples"
   ]
  },
  {
   "cell_type": "markdown",
   "id": "b391ca50",
   "metadata": {},
   "source": [
    "### Perforimng a two-tailed test"
   ]
  },
  {
   "cell_type": "code",
   "execution_count": null,
   "id": "fd467270",
   "metadata": {},
   "outputs": [],
   "source": [
    "# Performing a two tailed test\n",
    "t_statistic, p_val = stats.ttest_ind(bang_beef_samples, arg_beef_samples, alternative='two-sided')"
   ]
  },
  {
   "cell_type": "code",
   "execution_count": 38,
   "id": "5dcc0915",
   "metadata": {},
   "outputs": [
    {
     "name": "stdout",
     "output_type": "stream",
     "text": [
      "T Statistic: -40.16281604859935 \n",
      "P-value: 4.994241172768792e-44\n"
     ]
    }
   ],
   "source": [
    "print(f\"T Statistic: {t_statistic} \\nP-value: {p_val}\")"
   ]
  },
  {
   "cell_type": "code",
   "execution_count": 43,
   "id": "f426195a",
   "metadata": {},
   "outputs": [
    {
     "data": {
      "text/plain": [
       "np.float64(2.0452296421327034)"
      ]
     },
     "execution_count": 43,
     "metadata": {},
     "output_type": "execute_result"
    }
   ],
   "source": [
    "critic=stats.t.isf(0.05/2,29)\n",
    "critic"
   ]
  },
  {
   "cell_type": "markdown",
   "id": "09228116",
   "metadata": {},
   "source": [
    "From the two-tailed test, the absolute value of the t-statitics (40.163) > critical value (2.0452), therefore, the null hypothesis can be rejected and we can conclude that there is a significant difference between the mean beef consumption in Bangladesh and the mean beef consumption in Argentina"
   ]
  },
  {
   "cell_type": "markdown",
   "id": "370c2db6",
   "metadata": {},
   "source": [
    "### Performing Correlation Analysis"
   ]
  },
  {
   "cell_type": "code",
   "execution_count": 41,
   "id": "c4f2db4f",
   "metadata": {},
   "outputs": [],
   "source": [
    "#Checking the linear relationship\n",
    "corr, p_val = stats.pearsonr(bang_beef_samples, arg_beef_samples)"
   ]
  },
  {
   "cell_type": "code",
   "execution_count": 33,
   "id": "c315786d",
   "metadata": {},
   "outputs": [
    {
     "name": "stdout",
     "output_type": "stream",
     "text": [
      "Correlation Coefficient: -0.31595333091203576\n"
     ]
    }
   ],
   "source": [
    "print(f\"Correlation Coefficient: {corr}\")"
   ]
  },
  {
   "cell_type": "markdown",
   "id": "00ebd49c",
   "metadata": {},
   "source": [
    "Since correlation coefficient (r) is approximately -0.312, this indicates a weak negative linear relationship between the mean beef consumption in Argnetina and mean beef consumption in Argentina"
   ]
  },
  {
   "cell_type": "code",
   "execution_count": 34,
   "id": "df4daaf9",
   "metadata": {},
   "outputs": [
    {
     "name": "stdout",
     "output_type": "stream",
     "text": [
      "P-values: 0.08896227288587752\n"
     ]
    }
   ],
   "source": [
    "print(f\"P-values: {p_val}\")"
   ]
  },
  {
   "cell_type": "markdown",
   "id": "54ea5783",
   "metadata": {},
   "source": [
    "Since the p_value < 0.05 H₀ can be rejected, therefore, the beef consumption in Argentina is significantly different from the beef consumption in Bangladesh."
   ]
  },
  {
   "cell_type": "code",
   "execution_count": 36,
   "id": "4af7a65c",
   "metadata": {},
   "outputs": [
    {
     "data": {
      "image/png": "[encoded data removed]",
      "text/plain": [
       "<Figure size 800x600 with 1 Axes>"
      ]
     },
     "metadata": {},
     "output_type": "display_data"
    }
   ],
   "source": [
    "plt.figure(figsize=(8,6))\n",
    "sns.scatterplot(x=bang_beef_samples, y=arg_beef_samples)\n",
    "plt.title(\"Mean beef consumption in Argentina vs Bangladesh\")\n",
    "plt.show()"
   ]
  }
 ],
 "metadata": {
  "kernelspec": {
   "display_name": "intro_to_numpy (3.13.7)",
   "language": "python",
   "name": "python3"
  },
  "language_info": {
   "codemirror_mode": {
    "name": "ipython",
    "version": 3
   },
   "file_extension": ".py",
   "mimetype": "text/x-python",
   "name": "python",
   "nbconvert_exporter": "python",
   "pygments_lexer": "ipython3",
   "version": "3.13.7"
  }
 },
 "nbformat": 4,
 "nbformat_minor": 5
}
