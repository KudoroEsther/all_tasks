{
 "cells": [
  {
   "cell_type": "markdown",
   "id": "d8fd5a8a",
   "metadata": {},
   "source": [
    "# Task 13"
   ]
  },
  {
   "cell_type": "code",
   "execution_count": 6,
   "id": "85098a04",
   "metadata": {},
   "outputs": [],
   "source": [
    "import numpy as np\n",
    "import matplotlib.pyplot as plt\n",
    "import time\n",
    "\n",
    "np.set_printoptions(precision=3, suppress=True)"
   ]
  },
  {
   "cell_type": "markdown",
   "id": "5e8a607f",
   "metadata": {},
   "source": [
    "### Question 1"
   ]
  },
  {
   "cell_type": "code",
   "execution_count": 7,
   "id": "58f320d6",
   "metadata": {},
   "outputs": [
    {
     "name": "stdout",
     "output_type": "stream",
     "text": [
      "Random numbers between 1 and 50:\n",
      "[[12  8 29 23  7  8]\n",
      " [49  5 41 34 28 17]\n",
      " [31 41 48 41 34 20]\n",
      " [28  2 17 14 37 13]\n",
      " [ 7 48 45 32 33  2]\n",
      " [24 39 35 15 11 31]]\n"
     ]
    }
   ],
   "source": [
    "#A 6X6 Numpy array\n",
    "\n",
    "arr = np.random.randint(50, size=(6,6))\n",
    "print(f\"Random numbers between 1 and 50:\\n{arr}\")\n"
   ]
  },
  {
   "cell_type": "markdown",
   "id": "6ccf6a2a",
   "metadata": {},
   "source": [
    "### Question 2"
   ]
  },
  {
   "cell_type": "code",
   "execution_count": null,
   "id": "a57bebf6",
   "metadata": {},
   "outputs": [
    {
     "name": "stdout",
     "output_type": "stream",
     "text": [
      "First 3 rows: \n",
      "[[12  8 29 23  7  8]\n",
      " [49  5 41 34 28 17]\n",
      " [31 41 48 41 34 20]]\n",
      "\n",
      "Last three columns: \n",
      "[[23  7  8]\n",
      " [34 28 17]\n",
      " [41 34 20]\n",
      " [14 37 13]\n",
      " [32 33  2]\n",
      " [15 11 31]]\n",
      "Even numbers in the array: \n",
      "[12  8  8 34 28 48 34 20 28  2 14 48 32  2 24]\n"
     ]
    }
   ],
   "source": [
    "print(f\"First 2 rows: \\n{arr[0:2, :]}\")\n",
    "print(f\"\\nLast three columns: \\n{arr[:, 3:]}\")\n",
    "print(f\"Even numbers in the array: \\n{arr[arr%2 == 0]}\")\n"
   ]
  },
  {
   "cell_type": "markdown",
   "id": "324c541a",
   "metadata": {},
   "source": [
    "### Question 3"
   ]
  },
  {
   "cell_type": "code",
   "execution_count": 9,
   "id": "78a80c6d",
   "metadata": {},
   "outputs": [
    {
     "name": "stdout",
     "output_type": "stream",
     "text": [
      "Reshaped into 3D:\n",
      "[[[12  8 29 23  7  8]\n",
      "  [49  5 41 34 28 17]]\n",
      "\n",
      " [[31 41 48 41 34 20]\n",
      "  [28  2 17 14 37 13]]\n",
      "\n",
      " [[ 7 48 45 32 33  2]\n",
      "  [24 39 35 15 11 31]]]\n",
      "\n",
      "Flattened: \n",
      "[12  8 29 23  7  8 49  5 41 34 28 17 31 41 48 41 34 20 28  2 17 14 37 13\n",
      "  7 48 45 32 33  2 24 39 35 15 11 31]\n"
     ]
    }
   ],
   "source": [
    "#Reshaping into 3D\n",
    "print(f\"Reshaped into 3D:\\n{arr.reshape(3,2,6)}\")\n",
    "\n",
    "#Flattening into 1D\n",
    "flat = arr.flatten()\n",
    "print(f\"\\nFlattened: \\n{flat}\")"
   ]
  },
  {
   "cell_type": "markdown",
   "id": "01822a20",
   "metadata": {},
   "source": [
    "### Question 4"
   ]
  },
  {
   "cell_type": "code",
   "execution_count": 10,
   "id": "02047c81",
   "metadata": {},
   "outputs": [
    {
     "name": "stdout",
     "output_type": "stream",
     "text": [
      "[[10.  0.  0.  0.]\n",
      " [ 0. 20.  0.  0.]\n",
      " [ 0.  0. 30.  0.]\n",
      " [ 0.  0.  0. 40.]]\n"
     ]
    }
   ],
   "source": [
    "identity = np.eye(4)\n",
    "\n",
    "np.fill_diagonal(identity, (np.arange(10,50,10)))\n",
    "print(identity)\n"
   ]
  },
  {
   "cell_type": "markdown",
   "id": "35ab9a73",
   "metadata": {},
   "source": [
    "### Question 5"
   ]
  },
  {
   "cell_type": "code",
   "execution_count": 11,
   "id": "5fc3ede5",
   "metadata": {},
   "outputs": [
    {
     "name": "stdout",
     "output_type": "stream",
     "text": [
      "\n",
      "3x4 array: \n",
      "[[1 4 9 1]\n",
      " [4 3 5 4]\n",
      " [7 9 9 3]]\n",
      "\n",
      "4x3 array: \n",
      "[[5 9 6]\n",
      " [4 4 9]\n",
      " [2 5 5]\n",
      " [2 7 7]]\n",
      "\n",
      "Multiplication: \n",
      "[[ 41  77  94]\n",
      " [ 50 101 104]\n",
      " [ 95 165 189]]\n"
     ]
    }
   ],
   "source": [
    "#Matrix multiplication\n",
    "mat1 = np.random.randint(1,10, size=(3,4))\n",
    "mat2 = np.random.randint(1,10, size=(4,3))\n",
    "mult = np.dot(mat1,mat2)\n",
    "\n",
    "print(f\"\\n3x4 array: \\n{mat1}\")\n",
    "print(f\"\\n4x3 array: \\n{mat2}\")\n",
    "print(f\"\\nMultiplication: \\n{mult}\")"
   ]
  },
  {
   "cell_type": "markdown",
   "id": "6f6bbe2a",
   "metadata": {},
   "source": [
    "### Question 6"
   ]
  },
  {
   "cell_type": "code",
   "execution_count": 25,
   "id": "e2ca30e5",
   "metadata": {},
   "outputs": [
    {
     "name": "stdout",
     "output_type": "stream",
     "text": [
      "[2, 3, 4, 5]\n",
      "Latest array: \n",
      "[[ 4 -1]\n",
      " [16 -1]]\n"
     ]
    }
   ],
   "source": [
    "def array_manipulator(arr2d):\n",
    "    #this reshapes the inputted 1D array into a 2 by x array\n",
    "    array = np.array(arr2d).reshape(2,-1)\n",
    "\n",
    "    #this checks for even numbers and replaces it with the square of that even number or it replaces the odd numbers with -1\n",
    "    output = np.where(array %2 == 0, array**2, -1 )\n",
    "    return f\"Latest array: \\n{output}\"\n",
    "\n",
    "list_array = []\n",
    "for i in range(4):\n",
    "    arr2 = int(input(\"Enter four numbers: \"))\n",
    "    list_array.append(arr2)\n",
    "\n",
    "print(list_array)\n",
    "print(array_manipulator(list_array))\n",
    "    "
   ]
  },
  {
   "cell_type": "code",
   "execution_count": null,
   "id": "e0ddb999",
   "metadata": {},
   "outputs": [],
   "source": []
  }
 ],
 "metadata": {
  "kernelspec": {
   "display_name": "intro_to_numpy (3.13.7)",
   "language": "python",
   "name": "python3"
  },
  "language_info": {
   "codemirror_mode": {
    "name": "ipython",
    "version": 3
   },
   "file_extension": ".py",
   "mimetype": "text/x-python",
   "name": "python",
   "nbconvert_exporter": "python",
   "pygments_lexer": "ipython3",
   "version": "3.13.7"
  }
 },
 "nbformat": 4,
 "nbformat_minor": 5
}
