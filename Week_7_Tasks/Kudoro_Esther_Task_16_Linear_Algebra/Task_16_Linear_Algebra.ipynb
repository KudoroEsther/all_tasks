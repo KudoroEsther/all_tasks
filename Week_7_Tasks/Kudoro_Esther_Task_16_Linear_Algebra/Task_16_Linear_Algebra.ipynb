{
 "cells": [
  {
   "cell_type": "markdown",
   "id": "c5d0add3",
   "metadata": {},
   "source": [
    "# Class Task 3"
   ]
  },
  {
   "cell_type": "markdown",
   "id": "a368eaa3",
   "metadata": {},
   "source": [
    "### Question A"
   ]
  },
  {
   "cell_type": "markdown",
   "id": "06c8e3a2",
   "metadata": {},
   "source": []
  },
  {
   "cell_type": "code",
   "execution_count": 2,
   "id": "e9850902",
   "metadata": {},
   "outputs": [],
   "source": [
    "import numpy as np"
   ]
  },
  {
   "cell_type": "code",
   "execution_count": 7,
   "id": "d36ae509",
   "metadata": {},
   "outputs": [
    {
     "name": "stdout",
     "output_type": "stream",
     "text": [
      "cA = \n",
      "[[ 4 -2]\n",
      " [ 0  6]]\n",
      "\n",
      "dB = \n",
      "[[ 3 12]\n",
      " [-6 15]]\n",
      "\n",
      "(c+d)A = \n",
      "[[10 -5]\n",
      " [ 0 15]]\n"
     ]
    }
   ],
   "source": [
    "matA = np.array([[2, -1], [0, 3]])\n",
    "matB = np.array([[1, 4], [-2, 5]])\n",
    "\n",
    "scalar_c = 2\n",
    "scalar_d = 3\n",
    "\n",
    "compute1 = np.dot(scalar_c, matA)\n",
    "compute2 = np.dot(scalar_d, matB)\n",
    "compute3 = (scalar_c + scalar_d)*matA\n",
    "\n",
    "print(f\"cA = \\n{compute1}\")\n",
    "print(f\"\\ndB = \\n{compute2}\")\n",
    "print(f\"\\n(c+d)A = \\n{compute3}\")"
   ]
  },
  {
   "cell_type": "markdown",
   "id": "cbacd9fd",
   "metadata": {},
   "source": [
    "### Question B\n"
   ]
  },
  {
   "cell_type": "code",
   "execution_count": 11,
   "id": "0d12160a",
   "metadata": {},
   "outputs": [
    {
     "name": "stdout",
     "output_type": "stream",
     "text": [
      "Associativity of Scalar Multiplication: True\n",
      "Associativity of Scalar Multiplication: True\n",
      "Distributivity over Scalar Multiplication: True\n"
     ]
    }
   ],
   "source": [
    "#Associativity of Scalar Multiplication\n",
    "cA_Computation = np.dot(scalar_c, matA)\n",
    "Ac_Computation = np.dot(matA, scalar_c)\n",
    "\n",
    "print(f\"Associativity of Scalar Multiplication: {np.array_equal(cA_Computation, Ac_Computation)}\")\n",
    "\n",
    "dB_Computation = np.dot(scalar_d, matB)\n",
    "Bd_Computation = np.dot(matB, scalar_d)\n",
    "print(f\"Associativity of Scalar Multiplication: {np.array_equal(dB_Computation, Bd_Computation)}\")\n",
    "\n",
    "\n",
    "#Distributivity over Scalar Addition\n",
    "left =  (scalar_c + scalar_d)*matA\n",
    "\n",
    "dA_computation = np.dot(scalar_d, matA)\n",
    "right = cA_Computation + dA_computation \n",
    "print(f\"Distributivity over Scalar Multiplication: {np.array_equal(left, right)}\")\n"
   ]
  },
  {
   "cell_type": "markdown",
   "id": "34cfefde",
   "metadata": {},
   "source": [
    "### Question C"
   ]
  },
  {
   "cell_type": "code",
   "execution_count": 13,
   "id": "7e2d4b7d",
   "metadata": {},
   "outputs": [
    {
     "name": "stdout",
     "output_type": "stream",
     "text": [
      "Transpose of matrix A: \n",
      "[[ 2  0]\n",
      " [-1  3]]\n",
      "Transpose of matrix B: \n",
      "[[ 1 -2]\n",
      " [ 4  5]]\n"
     ]
    }
   ],
   "source": [
    "tranposeA = matA.transpose()\n",
    "tranposeB = matB.transpose()\n",
    "\n",
    "print(f\"Transpose of matrix A: \\n{tranposeA}\")\n",
    "print(f\"Transpose of matrix B: \\n{tranposeB}\")"
   ]
  },
  {
   "cell_type": "markdown",
   "id": "317dd2ae",
   "metadata": {},
   "source": [
    "### Question D"
   ]
  },
  {
   "cell_type": "code",
   "execution_count": 22,
   "id": "63c100ed",
   "metadata": {},
   "outputs": [
    {
     "name": "stdout",
     "output_type": "stream",
     "text": [
      "The determinant of matrix A is: 6.0 \n",
      "Therefore matrix A is invertible.\n",
      "\n",
      "The determinant of matrix B is: 13.0 \n",
      "Therefore matrix B is invertible.\n",
      "The inverse of matrix A is: \n",
      " [[0.5        0.16666667]\n",
      " [0.         0.33333333]]\n",
      "\n",
      "The inverse of matrix B is: \n",
      " [[ 0.38461538 -0.30769231]\n",
      " [ 0.15384615  0.07692308]]\n"
     ]
    }
   ],
   "source": [
    "determinantA = np.linalg.det(matA)\n",
    "determinantB = np.linalg.det(matB)\n",
    "\n",
    "print(f\"The determinant of matrix A is: {determinantA} \\nTherefore matrix A is invertible.\")\n",
    "print(f\"\\nThe determinant of matrix B is: {determinantB} \\nTherefore matrix B is invertible.\")\n",
    "\n",
    "\n",
    "inverseA = np.linalg.inv(matA)\n",
    "inverseB = np.linalg.inv(matB)\n",
    "print(f\"The inverse of matrix A is: \\n {inverseA}\")\n",
    "print(f\"\\nThe inverse of matrix B is: \\n {inverseB}\")"
   ]
  }
 ],
 "metadata": {
  "kernelspec": {
   "display_name": "intro_to_numpy (3.13.7)",
   "language": "python",
   "name": "python3"
  },
  "language_info": {
   "codemirror_mode": {
    "name": "ipython",
    "version": 3
   },
   "file_extension": ".py",
   "mimetype": "text/x-python",
   "name": "python",
   "nbconvert_exporter": "python",
   "pygments_lexer": "ipython3",
   "version": "3.13.7"
  }
 },
 "nbformat": 4,
 "nbformat_minor": 5
}
