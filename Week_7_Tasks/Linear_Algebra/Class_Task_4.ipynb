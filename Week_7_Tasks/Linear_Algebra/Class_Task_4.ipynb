{
 "cells": [
  {
   "cell_type": "markdown",
   "id": "5b8417c6",
   "metadata": {},
   "source": [
    "# Case Study: Student Performance Analysis with Linear Algebra"
   ]
  },
  {
   "cell_type": "markdown",
   "id": "6e17e1ea",
   "metadata": {},
   "source": [
    "## Step by Step Analysis"
   ]
  },
  {
   "cell_type": "markdown",
   "id": "002e1af5",
   "metadata": {},
   "source": [
    "## Question 3.1\n",
    "student_scores = ([[80, 70, 90],\n",
    "       [60, 85, 75],\n",
    "       [95, 88, 92],\n",
    "       [70, 60, 65]])"
   ]
  },
  {
   "cell_type": "markdown",
   "id": "0130cc65",
   "metadata": {},
   "source": [
    "## Question 3.2 Total Scores per Student (Vector Addition)\n",
    "Total_score_for_student1 = 80+70+90 = 240\n",
    "\n",
    "Total_score_for_student2 = 60+85+75 = 220\n",
    "\n",
    "Total_score_for_student3 = 95+88+92 = 275\n",
    "\n",
    "Total_score_for_student4 = 70+60+65 = 195"
   ]
  },
  {
   "cell_type": "markdown",
   "id": "5b831e8e",
   "metadata": {},
   "source": [
    "## Question 3.3 Applying Weights (Scalar Multiplication)\n",
    "weight = 2\n",
    "math_scores = ([80], [60], [95], [70])\n",
    "\n",
    "weighted_math_scores = 2*([80], [60], [95], [70])\n",
    "\n",
    "= ([[160],\n",
    "       [120],\n",
    "       [190],\n",
    "       [140]])\n",
    "       "
   ]
  },
  {
   "cell_type": "markdown",
   "id": "d8cac095",
   "metadata": {},
   "source": [
    "## Question 3.4 Average Score per Subject (Matrix Operation)"
   ]
  },
  {
   "cell_type": "code",
   "execution_count": 1,
   "id": "597965e8",
   "metadata": {},
   "outputs": [],
   "source": [
    "import numpy as np"
   ]
  },
  {
   "cell_type": "code",
   "execution_count": 33,
   "id": "ccd45e93",
   "metadata": {},
   "outputs": [
    {
     "data": {
      "text/plain": [
       "array([[160],\n",
       "       [120],\n",
       "       [190],\n",
       "       [140]])"
      ]
     },
     "execution_count": 33,
     "metadata": {},
     "output_type": "execute_result"
    }
   ],
   "source": [
    "weight = 2\n",
    "math_scores = np.array([[80], [60], [95], [70]])\n",
    "math_scores.shape\n",
    "final = np.dot(weight, math_scores)\n",
    "final"
   ]
  },
  {
   "cell_type": "code",
   "execution_count": null,
   "id": "0e058fa0",
   "metadata": {},
   "outputs": [
    {
     "data": {
      "text/plain": [
       "array([[385, 373, 412]])"
      ]
     },
     "execution_count": 25,
     "metadata": {},
     "output_type": "execute_result"
    }
   ],
   "source": [
    "# weight = np.array([[2, 1, 1, 1]])\n",
    "# student_scores = np.array([[80, 70, 90],\n",
    "#        [60, 85, 75],\n",
    "#        [95, 88, 92],\n",
    "#        [70, 60, 65]])\n",
    "# weight.shape\n",
    "# # student_scores.shape\n",
    "# final = np.matmul(weight, student_scores)\n",
    "# final"
   ]
  },
  {
   "cell_type": "code",
   "execution_count": 2,
   "id": "b3e3ca99",
   "metadata": {},
   "outputs": [
    {
     "data": {
      "text/plain": [
       "array([[80, 70, 90],\n",
       "       [60, 85, 75],\n",
       "       [95, 88, 92],\n",
       "       [70, 60, 65]])"
      ]
     },
     "execution_count": 2,
     "metadata": {},
     "output_type": "execute_result"
    }
   ],
   "source": [
    "#Representing the dataset as a matrix\n",
    "subjects = ['Math', 'English', 'Science']\n",
    "student1 = [80, 70, 90]\n",
    "student2 = [60, 85, 75]\n",
    "student3 = [95, 88, 92]\n",
    "student4 = [70, 60, 65]\n",
    "\n",
    "students = np.array([student1, student2, student3, student4])\n",
    "students"
   ]
  },
  {
   "cell_type": "code",
   "execution_count": 3,
   "id": "3ac4b4d7",
   "metadata": {},
   "outputs": [
    {
     "name": "stdout",
     "output_type": "stream",
     "text": [
      "Total score for student 1 is: 240 across ['Math', 'English', 'Science']\n",
      "Total score for student 2 is: 220 across ['Math', 'English', 'Science']\n",
      "Total score for student 3 is: 275 across ['Math', 'English', 'Science']\n",
      "Total score for student 4 is: 195 across ['Math', 'English', 'Science']\n"
     ]
    }
   ],
   "source": [
    "#Total score per student\n",
    "# score_for_student1 = np.sum(students[0])\n",
    "# score_for_student1\n",
    "\n",
    "total_score= np.sum(students, axis=1)\n",
    "i=1\n",
    "for score in total_score:\n",
    "    print(f\"Total score for student {i} is: {score} across {subjects}\")\n",
    "    i+=1\n"
   ]
  },
  {
   "cell_type": "code",
   "execution_count": 4,
   "id": "0f660900",
   "metadata": {},
   "outputs": [
    {
     "name": "stdout",
     "output_type": "stream",
     "text": [
      "Updated scores: \n",
      "[[160  70  90]\n",
      " [120  85  75]\n",
      " [190  88  92]\n",
      " [140  60  65]]\n"
     ]
    }
   ],
   "source": [
    "#Applying Weights (Scalar Multiplication)\n",
    "weight = 2\n",
    "\n",
    "score_weight = students.copy()\n",
    "score_weight[:,0] = np.dot(weight, score_weight[:,0])\n",
    "print(f\"Updated scores: \\n{score_weight}\")"
   ]
  },
  {
   "cell_type": "code",
   "execution_count": 5,
   "id": "3d929604",
   "metadata": {},
   "outputs": [
    {
     "name": "stdout",
     "output_type": "stream",
     "text": [
      "Average score for Math: is 152.5\n",
      "Average score for English: is 75.75\n",
      "Average score for Science: is 80.5\n"
     ]
    }
   ],
   "source": [
    "#Applying Average score per subject (Matrix Operation)\n",
    "average_score = np.mean(score_weight, axis=0)\n",
    "\n",
    "i = 0\n",
    "for avg in average_score:\n",
    "    print(f\"Average score for {subjects[i]}: is {avg}\")\n",
    "    i+=1\n"
   ]
  },
  {
   "cell_type": "code",
   "execution_count": 6,
   "id": "bfcb58e0",
   "metadata": {},
   "outputs": [
    {
     "name": "stdout",
     "output_type": "stream",
     "text": [
      "Final grade for student1: is 79.0\n",
      "Final grade for student2: is 70.5\n",
      "Final grade for student3: is 92.30000000000001\n",
      "Final grade for student4: is 66.0\n"
     ]
    }
   ],
   "source": [
    "#Final grades using matrix mulitplication\n",
    "weight_vector = [0.5, 0.3, 0.2]\n",
    "final_grades = np.matmul(students, weight_vector)\n",
    "\n",
    "i=1\n",
    "for grade in final_grades:\n",
    "    print(f\"Final grade for student{i}: is {grade}\")\n",
    "    i+=1"
   ]
  }
 ],
 "metadata": {
  "kernelspec": {
   "display_name": "Pandass",
   "language": "python",
   "name": "python3"
  },
  "language_info": {
   "codemirror_mode": {
    "name": "ipython",
    "version": 3
   },
   "file_extension": ".py",
   "mimetype": "text/x-python",
   "name": "python",
   "nbconvert_exporter": "python",
   "pygments_lexer": "ipython3",
   "version": "3.13.6"
  }
 },
 "nbformat": 4,
 "nbformat_minor": 5
}
