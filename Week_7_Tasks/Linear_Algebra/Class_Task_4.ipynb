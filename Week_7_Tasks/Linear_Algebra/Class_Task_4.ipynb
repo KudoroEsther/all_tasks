{
 "cells": [
  {
   "cell_type": "markdown",
   "id": "5b8417c6",
   "metadata": {},
   "source": [
    "# Case Study: Student Performance Analysis with Linear Algebra"
   ]
  },
  {
   "cell_type": "markdown",
   "id": "6e17e1ea",
   "metadata": {},
   "source": [
    "## Step by Step Analysis"
   ]
  },
  {
   "cell_type": "code",
   "execution_count": 1,
   "id": "597965e8",
   "metadata": {},
   "outputs": [],
   "source": [
    "import numpy as np"
   ]
  },
  {
   "cell_type": "code",
   "execution_count": 8,
   "id": "b3e3ca99",
   "metadata": {},
   "outputs": [
    {
     "data": {
      "text/plain": [
       "array([[80, 70, 90],\n",
       "       [60, 85, 75],\n",
       "       [95, 88, 92],\n",
       "       [70, 60, 65]])"
      ]
     },
     "execution_count": 8,
     "metadata": {},
     "output_type": "execute_result"
    }
   ],
   "source": [
    "#Representing the dataset as a matrix\n",
    "subjects = ['Math', 'English', 'Science']\n",
    "student1 = [80, 70, 90]\n",
    "student2 = [60, 85, 75]\n",
    "student3 = [95, 88, 92]\n",
    "student4 = [70, 60, 65]\n",
    "\n",
    "students = np.array([student1, student2, student3, student4])\n",
    "students"
   ]
  },
  {
   "cell_type": "code",
   "execution_count": null,
   "id": "3ac4b4d7",
   "metadata": {},
   "outputs": [
    {
     "name": "stdout",
     "output_type": "stream",
     "text": [
      "Total score for student 1 is: 240 across ['Math', 'English', 'Science']\n",
      "Total score for student 2 is: 220 across ['Math', 'English', 'Science']\n",
      "Total score for student 3 is: 275 across ['Math', 'English', 'Science']\n",
      "Total score for student 4 is: 195 across ['Math', 'English', 'Science']\n"
     ]
    }
   ],
   "source": [
    "#Total score per student\n",
    "# score_for_student1 = np.sum(students[0])\n",
    "# score_for_student1\n",
    "\n",
    "total_score= np.sum(students, axis=1)\n",
    "i=1\n",
    "for score in total_score:\n",
    "    print(f\"Total score for student {i} is: {score} across {subjects}\")\n",
    "    i+=1\n"
   ]
  },
  {
   "cell_type": "code",
   "execution_count": 31,
   "id": "0f660900",
   "metadata": {},
   "outputs": [
    {
     "name": "stdout",
     "output_type": "stream",
     "text": [
      "Updated scores: \n",
      "[[160  70  90]\n",
      " [120  85  75]\n",
      " [190  88  92]\n",
      " [140  60  65]]\n"
     ]
    }
   ],
   "source": [
    "#Applying Weights (Scalar Multiplication)\n",
    "weight = 2\n",
    "\n",
    "score_weight = students.copy()\n",
    "score_weight[:,0] = np.dot(weight, score_weight[:,0])\n",
    "print(f\"Updated scores: \\n{score_weight}\")"
   ]
  },
  {
   "cell_type": "code",
   "execution_count": 43,
   "id": "3d929604",
   "metadata": {},
   "outputs": [
    {
     "name": "stdout",
     "output_type": "stream",
     "text": [
      "Average score for Math: is 152.5\n",
      "Average score for English: is 75.75\n",
      "Average score for Science: is 80.5\n"
     ]
    }
   ],
   "source": [
    "#Applying Average score per subject (Matrix Operation)\n",
    "average_score = np.mean(score_weight, axis=0)\n",
    "\n",
    "i = 0\n",
    "for avg in average_score:\n",
    "    print(f\"Average score for {subjects[i]}: is {avg}\")\n",
    "    i+=1\n"
   ]
  }
 ],
 "metadata": {
  "kernelspec": {
   "display_name": "Pandass",
   "language": "python",
   "name": "python3"
  },
  "language_info": {
   "codemirror_mode": {
    "name": "ipython",
    "version": 3
   },
   "file_extension": ".py",
   "mimetype": "text/x-python",
   "name": "python",
   "nbconvert_exporter": "python",
   "pygments_lexer": "ipython3",
   "version": "3.13.6"
  }
 },
 "nbformat": 4,
 "nbformat_minor": 5
}
