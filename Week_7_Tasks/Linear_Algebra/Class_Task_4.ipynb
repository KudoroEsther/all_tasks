{
 "cells": [
  {
   "cell_type": "markdown",
   "id": "5b8417c6",
   "metadata": {},
   "source": [
    "# Case Study: Student Performance Analysis with Linear Algebra"
   ]
  },
  {
   "cell_type": "markdown",
   "id": "6e17e1ea",
   "metadata": {},
   "source": [
    "## Step by Step Analysis"
   ]
  },
  {
   "cell_type": "code",
   "execution_count": 1,
   "id": "597965e8",
   "metadata": {},
   "outputs": [],
   "source": [
    "import numpy as np"
   ]
  },
  {
   "cell_type": "code",
   "execution_count": 8,
   "id": "b3e3ca99",
   "metadata": {},
   "outputs": [
    {
     "data": {
      "text/plain": [
       "array([[80, 70, 90],\n",
       "       [60, 85, 75],\n",
       "       [95, 88, 92],\n",
       "       [70, 60, 65]])"
      ]
     },
     "execution_count": 8,
     "metadata": {},
     "output_type": "execute_result"
    }
   ],
   "source": [
    "#Representing the dataset as a matrix\n",
    "subjects = ['Math', 'English', 'Science']\n",
    "student1 = [80, 70, 90]\n",
    "student2 = [60, 85, 75]\n",
    "student3 = [95, 88, 92]\n",
    "student4 = [70, 60, 65]\n",
    "\n",
    "students = np.array([student1, student2, student3, student4])\n",
    "students"
   ]
  },
  {
   "cell_type": "code",
   "execution_count": null,
   "id": "3ac4b4d7",
   "metadata": {},
   "outputs": [],
   "source": [
    "#Total score per student\n"
   ]
  }
 ],
 "metadata": {
  "kernelspec": {
   "display_name": "Pandass",
   "language": "python",
   "name": "python3"
  },
  "language_info": {
   "codemirror_mode": {
    "name": "ipython",
    "version": 3
   },
   "file_extension": ".py",
   "mimetype": "text/x-python",
   "name": "python",
   "nbconvert_exporter": "python",
   "pygments_lexer": "ipython3",
   "version": "3.13.6"
  }
 },
 "nbformat": 4,
 "nbformat_minor": 5
}
