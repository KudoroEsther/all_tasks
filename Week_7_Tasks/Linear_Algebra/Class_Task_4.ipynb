{
 "cells": [
  {
   "cell_type": "markdown",
   "id": "5b8417c6",
   "metadata": {},
   "source": [
    "# Case Study: Student Performance Analysis with Linear Algebra"
   ]
  },
  {
   "cell_type": "markdown",
   "id": "6e17e1ea",
   "metadata": {},
   "source": [
    "## Step by Step Analysis"
   ]
  },
  {
   "cell_type": "markdown",
   "id": "002e1af5",
   "metadata": {},
   "source": [
    "## Question 3.1\n",
    "student_scores = ([[80, 70, 90],\n",
    "       [60, 85, 75],\n",
    "       [95, 88, 92],\n",
    "       [70, 60, 65]])"
   ]
  },
  {
   "cell_type": "markdown",
   "id": "0130cc65",
   "metadata": {},
   "source": [
    "## Question 3.2 Total Scores per Student (Vector Addition)\n",
    "Total_score_for_student1 = 80+70+90 = 240\n",
    "\n",
    "Total_score_for_student2 = 60+85+75 = 220\n",
    "\n",
    "Total_score_for_student3 = 95+88+92 = 275\n",
    "\n",
    "Total_score_for_student4 = 70+60+65 = 195"
   ]
  },
  {
   "cell_type": "markdown",
   "id": "5b831e8e",
   "metadata": {},
   "source": [
    "## Question 3.3 Applying Weights (Scalar Multiplication)\n",
    "weight = 2\n",
    "math_scores = ([80], [60], [95], [70])\n",
    "\n",
    "weighted_math_scores = 2*([80], [60], [95], [70])\n",
    "\n",
    "= ([[160],\n",
    "       [120],\n",
    "       [190],\n",
    "       [140]])\n",
    "       "
   ]
  },
  {
   "cell_type": "markdown",
   "id": "d8cac095",
   "metadata": {},
   "source": [
    "## Question 3.4 Average Score per Subject (Matrix Operation)\n",
    "average_score_for_math = (total_math_score)/(number_of_students)\n",
    "    =(160+120+190+140)/4\n",
    "    =(470)/4 = 152.5\n",
    "\n",
    "average_score_for_english = (total_english_score)/(number_of_students)\n",
    "    =(70+85+88+60)/4\n",
    "    =(303)/4 = 75.75\n",
    "\n",
    "average_score_for_science = (total_science_score)/(number_of_students)\n",
    "    =(90+75+92+65)/4\n",
    "    =(322)/4 = 80.5"
   ]
  },
  {
   "cell_type": "markdown",
   "id": "75fa954f",
   "metadata": {},
   "source": [
    "## Question 3.5 Final Grades using Matrix Multiplication\n",
    "weight_vector = [0.5, 0.3, 0.2]\n",
    "\n",
    "final grades = [[(80x0.5), (70x0.3), (90x0.2)],\n",
    "                [(95x0.5), (85x0.3), (75x0.2)],\n",
    "                [(95x0.5), (88x0.3), (92x0.2)],\n",
    "                [(70x0.5), (60x0.3), (65x0.2)]]\n",
    "\n",
    "final_grades = [[79], \n",
    "[70.5], \n",
    "[92.3], [66 ]]\n"
   ]
  },
  {
   "cell_type": "markdown",
   "id": "20016917",
   "metadata": {},
   "source": [
    "## Question 3.6 Comparing Students (Vector Subtraction)\n",
    "Comparing student 1 and student 4 scores in Maths, English and Science\n",
    "\n",
    "student1 = [80, 70, 90]\n",
    "\n",
    "student4 = [70, 60, 65]\n",
    "\n",
    "comparision = student1 - student4\n",
    "    = [80-70, 70-60, 90-65]\n",
    "    = [10, 10, 25]"
   ]
  },
  {
   "cell_type": "code",
   "execution_count": 1,
   "id": "597965e8",
   "metadata": {},
   "outputs": [],
   "source": [
    "import numpy as np"
   ]
  },
  {
   "cell_type": "code",
   "execution_count": 2,
   "id": "b3e3ca99",
   "metadata": {},
   "outputs": [
    {
     "data": {
      "text/plain": [
       "array([[80, 70, 90],\n",
       "       [60, 85, 75],\n",
       "       [95, 88, 92],\n",
       "       [70, 60, 65]])"
      ]
     },
     "execution_count": 2,
     "metadata": {},
     "output_type": "execute_result"
    }
   ],
   "source": [
    "#Representing the dataset as a matrix\n",
    "subjects = ['Math', 'English', 'Science']\n",
    "student1 = [80, 70, 90]\n",
    "student2 = [60, 85, 75]\n",
    "student3 = [95, 88, 92]\n",
    "student4 = [70, 60, 65]\n",
    "\n",
    "students = np.array([student1, student2, student3, student4])\n",
    "students"
   ]
  },
  {
   "cell_type": "code",
   "execution_count": 3,
   "id": "3ac4b4d7",
   "metadata": {},
   "outputs": [
    {
     "name": "stdout",
     "output_type": "stream",
     "text": [
      "Total score for student 1 is: 240 across ['Math', 'English', 'Science']\n",
      "Total score for student 2 is: 220 across ['Math', 'English', 'Science']\n",
      "Total score for student 3 is: 275 across ['Math', 'English', 'Science']\n",
      "Total score for student 4 is: 195 across ['Math', 'English', 'Science']\n"
     ]
    }
   ],
   "source": [
    "#Total score per student\n",
    "# score_for_student1 = np.sum(students[0])\n",
    "# score_for_student1\n",
    "\n",
    "total_score= np.sum(students, axis=1)\n",
    "i=1\n",
    "for score in total_score:\n",
    "    print(f\"Total score for student {i} is: {score} across {subjects}\")\n",
    "    i+=1\n"
   ]
  },
  {
   "cell_type": "code",
   "execution_count": 4,
   "id": "0f660900",
   "metadata": {},
   "outputs": [
    {
     "name": "stdout",
     "output_type": "stream",
     "text": [
      "Updated scores: \n",
      "[[160  70  90]\n",
      " [120  85  75]\n",
      " [190  88  92]\n",
      " [140  60  65]]\n"
     ]
    }
   ],
   "source": [
    "#Applying Weights (Scalar Multiplication)\n",
    "weight = 2\n",
    "\n",
    "score_weight = students.copy()\n",
    "score_weight[:,0] = np.dot(weight, score_weight[:,0])\n",
    "print(f\"Updated scores: \\n{score_weight}\")"
   ]
  },
  {
   "cell_type": "code",
   "execution_count": 5,
   "id": "3d929604",
   "metadata": {},
   "outputs": [
    {
     "name": "stdout",
     "output_type": "stream",
     "text": [
      "Average score for Math: is 152.5\n",
      "Average score for English: is 75.75\n",
      "Average score for Science: is 80.5\n"
     ]
    }
   ],
   "source": [
    "#Applying Average score per subject (Matrix Operation)\n",
    "average_score = np.mean(score_weight, axis=0)\n",
    "\n",
    "i = 0\n",
    "for avg in average_score:\n",
    "    print(f\"Average score for {subjects[i]}: is {avg}\")\n",
    "    i+=1\n"
   ]
  },
  {
   "cell_type": "code",
   "execution_count": 51,
   "id": "bfcb58e0",
   "metadata": {},
   "outputs": [
    {
     "name": "stdout",
     "output_type": "stream",
     "text": [
      "Final grade for student1: is 79.0\n",
      "Final grade for student2: is 70.5\n",
      "Final grade for student3: is 92.30000000000001\n",
      "Final grade for student4: is 66.0\n"
     ]
    }
   ],
   "source": [
    "#Final grades using matrix mulitplication\n",
    "weight_vector = np.array([0.5, 0.3, 0.2])\n",
    "final_grades = np.matmul(students, weight_vector)\n",
    "\n",
    "i=1\n",
    "for grade in final_grades:\n",
    "    print(f\"Final grade for student{i}: is {grade}\")\n",
    "    i+=1"
   ]
  },
  {
   "cell_type": "code",
   "execution_count": 55,
   "id": "23590efb",
   "metadata": {},
   "outputs": [
    {
     "name": "stdout",
     "output_type": "stream",
     "text": [
      "Difference between student 1 and student 4 scores in Maths, English, and Science: \n",
      "[10 10 25]\n"
     ]
    }
   ],
   "source": [
    "#Comparing Students (Vector Subtraction)\n",
    "#comparing student 1 and student 4\n",
    "comparison = np.subtract(student1, student4)\n",
    "print(f\"Difference between student 1 and student 4 scores in Maths, English, and Science: \\n{comparison}\")\n"
   ]
  },
  {
   "cell_type": "markdown",
   "id": "a704c9e2",
   "metadata": {},
   "source": [
    "## Add-on Exercises"
   ]
  },
  {
   "cell_type": "code",
   "execution_count": 56,
   "id": "37fed8df",
   "metadata": {},
   "outputs": [
    {
     "data": {
      "text/plain": [
       "array([[80, 70, 90, 81],\n",
       "       [60, 85, 75, 78],\n",
       "       [95, 88, 92, 89],\n",
       "       [70, 60, 65, 79],\n",
       "       [80, 79, 89, 78]])"
      ]
     },
     "execution_count": 56,
     "metadata": {},
     "output_type": "execute_result"
    }
   ],
   "source": [
    "subjects = ['Math', 'English', 'Science', 'Economics']\n",
    "\n",
    "student1 = [80, 70, 90, 81]\n",
    "student2 = [60, 85, 75, 78]\n",
    "student3 = [95, 88, 92, 89]\n",
    "student4 = [70, 60, 65, 79]\n",
    "student5 = [80, 79, 89, 78]\n",
    "\n",
    "scores = np.array([student1, student2, student3, student4, student5])\n",
    "\n",
    "scores"
   ]
  }
 ],
 "metadata": {
  "kernelspec": {
   "display_name": "Pandass",
   "language": "python",
   "name": "python3"
  },
  "language_info": {
   "codemirror_mode": {
    "name": "ipython",
    "version": 3
   },
   "file_extension": ".py",
   "mimetype": "text/x-python",
   "name": "python",
   "nbconvert_exporter": "python",
   "pygments_lexer": "ipython3",
   "version": "3.13.6"
  }
 },
 "nbformat": 4,
 "nbformat_minor": 5
}
