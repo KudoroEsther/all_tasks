{
 "cells": [
  {
   "cell_type": "markdown",
   "id": "1a8d7b59",
   "metadata": {},
   "source": [
    "# CLASS TASK 2"
   ]
  },
  {
   "cell_type": "markdown",
   "id": "9ac616e8",
   "metadata": {},
   "source": [
    "### Question 1"
   ]
  },
  {
   "cell_type": "markdown",
   "id": "cabc364f",
   "metadata": {},
   "source": [
    "The rows and columsn in each matrices\n",
    "Matrix A\n",
    "Matrix A has 2 rows and 3 columns, therefore, matrix A is a 2X3 matrix\n",
    "\n",
    "Matrix B\n",
    "Matrix A has 3 rows and 2 columns, therefore matrix B is a 3X2 matrix"
   ]
  },
  {
   "cell_type": "markdown",
   "id": "e93048a0",
   "metadata": {},
   "source": [
    "### Question 2"
   ]
  },
  {
   "cell_type": "markdown",
   "id": "7e0e8b62",
   "metadata": {},
   "source": [
    "The matrix A and B can be multiplied both as AB and BA.\n",
    "It can be multiplied as AB because the number of columms in matrix A is equal to the number of rows in matrix B\n",
    "It can also be multiplied as BA because the number of columns in matrix B is equal to the number of rows in matrix A"
   ]
  },
  {
   "cell_type": "code",
   "execution_count": 3,
   "id": "51096d3d",
   "metadata": {},
   "outputs": [],
   "source": [
    "import numpy as np"
   ]
  },
  {
   "cell_type": "code",
   "execution_count": 9,
   "id": "48799166",
   "metadata": {},
   "outputs": [
    {
     "name": "stdout",
     "output_type": "stream",
     "text": [
      "A X B = \n",
      "[[19 -5]\n",
      " [-3 -3]]\n",
      "B X A = \n",
      "[[  2   7   5]\n",
      " [ -4   2  -6]\n",
      " [ 10 -17  12]]\n"
     ]
    }
   ],
   "source": [
    "matA =np.array([[2,-1,3], [0,4,1]])\n",
    "matB = np.array([[1,2], [-2, 0], [5, -3]])\n",
    "\n",
    "computation1 = np.dot(matA,matB)\n",
    "computation2 = np.dot(matB,matA)\n",
    "\n",
    "print(f\"A X B = \\n{computation1}\")\n",
    "print(f\"B X A = \\n{computation2}\")"
   ]
  }
 ],
 "metadata": {
  "kernelspec": {
   "display_name": "intro_to_numpy (3.13.7)",
   "language": "python",
   "name": "python3"
  },
  "language_info": {
   "codemirror_mode": {
    "name": "ipython",
    "version": 3
   },
   "file_extension": ".py",
   "mimetype": "text/x-python",
   "name": "python",
   "nbconvert_exporter": "python",
   "pygments_lexer": "ipython3",
   "version": "3.13.7"
  }
 },
 "nbformat": 4,
 "nbformat_minor": 5
}
